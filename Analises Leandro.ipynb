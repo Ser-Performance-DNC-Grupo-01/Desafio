{
 "cells": [
  {
   "cell_type": "code",
   "execution_count": 2,
   "metadata": {},
   "outputs": [],
   "source": [
    "import pandas as pd\n",
    "import numpy as np\n",
    "import matplotlib.pyplot as plt\n",
    "import seaborn as sns\n",
    "import os\n"
   ]
  },
  {
   "cell_type": "markdown",
   "metadata": {},
   "source": [
    "#### Caminho das pastas"
   ]
  },
  {
   "cell_type": "code",
   "execution_count": 3,
   "metadata": {},
   "outputs": [
    {
     "name": "stdout",
     "output_type": "stream",
     "text": [
      "['00D509DB-8BE0-4ACE-A5AD-5BF37386995B', '00D509DB-8BE0-4ACE-A5AD-5BF37386995B-20240718T184006Z-001.zip', '098887C7-B9E5-4BCC-8B68-D20E94CBC297', '147229CD-F3A5-4E75-91DC-7995C01F9438', '15EDFB01-20F8-451D-968C-3D76DA48FA5D', '2BB774CA-42B6-4958-AEAD-BE99DBE606CC', '3B4192CC-761D-45BA-A325-8D023FDC6D3A', '4903AA7A-ACE3-4C66-AD62-3FDBDD13CBF5', '4A74F755-039A-4777-834D-E9D7033E9142', '4C94CE12-1188-4B0C-9122-F2BDE5CB697A', '4F8F5521-B308-4503-89B9-9482D8B24351', '4FC32C34-7C03-4291-9325-6CA7055E7777', '4FF291F2-92A7-49AF-A40E-EB76D8F18F58', '5CD89290-B8DF-414F-9720-5891CD0BCFA5', '5F4387EC-6857-4E6E-94CC-C1CBE1E4F0B4', '6F67F229-B819-4508-891F-4573DB8F3CB2', '7257F457-ED17-4DD5-B738-0C8734A36101', '752351F6-AED0-43AB-B195-EC073589A8BA', '7672F3C1-00A6-42F2-A72C-8804C289CEC9', '79816F71-04C8-4B79-A572-757A0FE29B34', '8C0E7DB8-0B34-4451-B387-795F9B751589', '9DBC9CF3-7B21-410E-A27F-34589AAC3A20', 'A2687A1C-CA71-4245-8697-FE717B66DBF8', 'AB2282B0-7703-42B8-9F34-C06B4EC78790', 'ACE6D50E-AD7E-4E01-A908-9A3DD7892DCA', 'AEF86F4A-05EA-417B-A6B8-E0D75A8C12B0', 'B75171F8-9C93-4A68-9EA4-8CD8348D6293', 'BAC1F505-2A82-41BD-8DD9-01205676EA3E', 'CFA413B7-7821-497B-A322-542A4176E65D', 'D4F1A92F-5552-46AA-BE5C-B45C37E66C4E', 'D5B9D44C-D644-4207-8F98-02A18EC73B86', 'D749F2B0-AE4D-4969-9407-A5970AFD80BB', 'D9C754A8-23E2-4977-A2E1-A52154414F02', 'Dados corrigidos', 'DCA51EA9-F37D-49A3-B209-46B0BE5346B0', 'DF055A14-4E69-497A-88C7-1D9BAC39B672', 'DNC.rar', 'drive-download-20240718T184053Z-001.zip', 'drive-download-20240718T184159Z-001.zip', 'drive-download-20240718T184240Z-001.zip', 'drive-download-20240718T185602Z-001.zip', 'drive-download-20240718T185602Z-002.zip', 'drive-download-20240718T185801Z-001.zip', 'E2017589-BBF0-48A3-81A0-73ED84D0F993', 'E504E63C-326C-4CB7-A9BE-704EE6C677F3', 'EC9FD97E-32D9-43D3-8C25-15FD075D9750', 'Github', 'Minhas análises']\n"
     ]
    }
   ],
   "source": [
    "caminho = r'C:\\Users\\leand\\OneDrive\\Área de Trabalho\\Cursos\\DNC\\Ser Performance'\n",
    "pasta = []\n",
    "for pastas in os.listdir(caminho):\n",
    "    pasta.append(pastas)\n",
    "\n",
    "print(pasta)"
   ]
  },
  {
   "cell_type": "markdown",
   "metadata": {},
   "source": [
    "### usei o laço de repetição para buscar e já nomear as tabelas"
   ]
  },
  {
   "cell_type": "code",
   "execution_count": 4,
   "metadata": {},
   "outputs": [],
   "source": [
    "cliente =  caminho + '\\\\' + pasta[0] + '\\\\'\n",
    "\n",
    "for csv in os.listdir(cliente):\n",
    "    if csv.endswith('.csv'):\n",
    "        if 'acessos' in csv:\n",
    "            acessos = pd.read_csv(cliente + csv)\n",
    "        if 'campanha' in csv:\n",
    "            campanha = pd.read_csv(cliente + csv)\n",
    "        if 'feedback' in csv:\n",
    "            feedback = pd.read_csv(cliente + csv)\n",
    "        if 'produto' in csv:\n",
    "            produto = pd.read_csv(cliente + csv)\n",
    "        if 'treinamento' in csv:\n",
    "            treinamento = pd.read_csv(cliente + csv)\n",
    "        if 'vendas' in csv:\n",
    "            vendas = pd.read_csv(cliente + csv)"
   ]
  },
  {
   "cell_type": "code",
   "execution_count": 5,
   "metadata": {},
   "outputs": [
    {
     "data": {
      "text/html": [
       "<div>\n",
       "<style scoped>\n",
       "    .dataframe tbody tr th:only-of-type {\n",
       "        vertical-align: middle;\n",
       "    }\n",
       "\n",
       "    .dataframe tbody tr th {\n",
       "        vertical-align: top;\n",
       "    }\n",
       "\n",
       "    .dataframe thead th {\n",
       "        text-align: right;\n",
       "    }\n",
       "</style>\n",
       "<table border=\"1\" class=\"dataframe\">\n",
       "  <thead>\n",
       "    <tr style=\"text-align: right;\">\n",
       "      <th></th>\n",
       "      <th>Data</th>\n",
       "      <th>Funcionario</th>\n",
       "      <th>Unidade</th>\n",
       "      <th>Quantidade_de_Acessos</th>\n",
       "      <th>CLI_CODIGO</th>\n",
       "    </tr>\n",
       "  </thead>\n",
       "  <tbody>\n",
       "    <tr>\n",
       "      <th>0</th>\n",
       "      <td>2023-06-05</td>\n",
       "      <td>8EB10BCB-42E7-42EF-AF88-07BE7BA740C3</td>\n",
       "      <td>FE9FCF8B-590E-4C08-B6F5-20B0A6CCF8E6</td>\n",
       "      <td>9</td>\n",
       "      <td>00D509DB-8BE0-4ACE-A5AD-5BF37386995B</td>\n",
       "    </tr>\n",
       "    <tr>\n",
       "      <th>1</th>\n",
       "      <td>2023-06-10</td>\n",
       "      <td>8EB10BCB-42E7-42EF-AF88-07BE7BA740C3</td>\n",
       "      <td>FE9FCF8B-590E-4C08-B6F5-20B0A6CCF8E6</td>\n",
       "      <td>6</td>\n",
       "      <td>00D509DB-8BE0-4ACE-A5AD-5BF37386995B</td>\n",
       "    </tr>\n",
       "    <tr>\n",
       "      <th>2</th>\n",
       "      <td>2023-06-14</td>\n",
       "      <td>8EB10BCB-42E7-42EF-AF88-07BE7BA740C3</td>\n",
       "      <td>FE9FCF8B-590E-4C08-B6F5-20B0A6CCF8E6</td>\n",
       "      <td>1</td>\n",
       "      <td>00D509DB-8BE0-4ACE-A5AD-5BF37386995B</td>\n",
       "    </tr>\n",
       "    <tr>\n",
       "      <th>3</th>\n",
       "      <td>2023-06-16</td>\n",
       "      <td>8EB10BCB-42E7-42EF-AF88-07BE7BA740C3</td>\n",
       "      <td>FE9FCF8B-590E-4C08-B6F5-20B0A6CCF8E6</td>\n",
       "      <td>2</td>\n",
       "      <td>00D509DB-8BE0-4ACE-A5AD-5BF37386995B</td>\n",
       "    </tr>\n",
       "    <tr>\n",
       "      <th>4</th>\n",
       "      <td>2023-06-20</td>\n",
       "      <td>8EB10BCB-42E7-42EF-AF88-07BE7BA740C3</td>\n",
       "      <td>FE9FCF8B-590E-4C08-B6F5-20B0A6CCF8E6</td>\n",
       "      <td>5</td>\n",
       "      <td>00D509DB-8BE0-4ACE-A5AD-5BF37386995B</td>\n",
       "    </tr>\n",
       "  </tbody>\n",
       "</table>\n",
       "</div>"
      ],
      "text/plain": [
       "         Data                           Funcionario  \\\n",
       "0  2023-06-05  8EB10BCB-42E7-42EF-AF88-07BE7BA740C3   \n",
       "1  2023-06-10  8EB10BCB-42E7-42EF-AF88-07BE7BA740C3   \n",
       "2  2023-06-14  8EB10BCB-42E7-42EF-AF88-07BE7BA740C3   \n",
       "3  2023-06-16  8EB10BCB-42E7-42EF-AF88-07BE7BA740C3   \n",
       "4  2023-06-20  8EB10BCB-42E7-42EF-AF88-07BE7BA740C3   \n",
       "\n",
       "                                Unidade  Quantidade_de_Acessos  \\\n",
       "0  FE9FCF8B-590E-4C08-B6F5-20B0A6CCF8E6                      9   \n",
       "1  FE9FCF8B-590E-4C08-B6F5-20B0A6CCF8E6                      6   \n",
       "2  FE9FCF8B-590E-4C08-B6F5-20B0A6CCF8E6                      1   \n",
       "3  FE9FCF8B-590E-4C08-B6F5-20B0A6CCF8E6                      2   \n",
       "4  FE9FCF8B-590E-4C08-B6F5-20B0A6CCF8E6                      5   \n",
       "\n",
       "                             CLI_CODIGO  \n",
       "0  00D509DB-8BE0-4ACE-A5AD-5BF37386995B  \n",
       "1  00D509DB-8BE0-4ACE-A5AD-5BF37386995B  \n",
       "2  00D509DB-8BE0-4ACE-A5AD-5BF37386995B  \n",
       "3  00D509DB-8BE0-4ACE-A5AD-5BF37386995B  \n",
       "4  00D509DB-8BE0-4ACE-A5AD-5BF37386995B  "
      ]
     },
     "execution_count": 5,
     "metadata": {},
     "output_type": "execute_result"
    }
   ],
   "source": [
    "acessos.head()\n"
   ]
  },
  {
   "cell_type": "markdown",
   "metadata": {},
   "source": [
    "#### Acessos por Funcionário"
   ]
  },
  {
   "cell_type": "code",
   "execution_count": 6,
   "metadata": {},
   "outputs": [
    {
     "data": {
      "text/plain": [
       "Funcionario\n",
       "B20A3E46-7DBF-46E9-BDEA-5B13AAB08CE0    18522\n",
       "4058BE4C-CD1A-40D3-89A6-76142B2BE39D    12584\n",
       "DCFBB00A-4F15-45E3-83D0-B04E0292BB6E    10129\n",
       "9D6A61EF-89BD-4AAD-9B83-5ECE41B49C4D     5236\n",
       "5822DC47-B851-42C3-BDE0-BC9ABAFFBC57     3641\n",
       "4716A6E5-20E3-42F0-81C6-CCD88070E648     3495\n",
       "46AAF177-3F15-4CAB-BF67-27DBE9CC6748     2577\n",
       "29CE7071-A7F0-4FCC-8348-E8F3A19FB381     2576\n",
       "0EA7A9D3-8569-4082-AA86-9346CF60A095     2399\n",
       "AC5D28E1-3B90-4D0D-870A-52E3C156AC64     2111\n",
       "Name: Quantidade_de_Acessos, dtype: int64"
      ]
     },
     "execution_count": 6,
     "metadata": {},
     "output_type": "execute_result"
    }
   ],
   "source": [
    "funcacessos = acessos.groupby('Funcionario')['Quantidade_de_Acessos'].sum().sort_values(ascending=False)\n",
    "funcacessos.head(10)"
   ]
  },
  {
   "cell_type": "markdown",
   "metadata": {},
   "source": [
    "#### Acessos por Unidade"
   ]
  },
  {
   "cell_type": "code",
   "execution_count": 7,
   "metadata": {},
   "outputs": [
    {
     "data": {
      "text/plain": [
       "Unidade\n",
       "2F775CDD-74A9-4516-B2A4-6D7E643E96EA    25469\n",
       "FE9FCF8B-590E-4C08-B6F5-20B0A6CCF8E6    22365\n",
       "6CAD2F0B-5D9B-4C84-BEAD-D63EFEAB244B    20948\n",
       "1E3AB2C8-DDB6-4981-AC30-EFFAD5F4DFAC     6142\n",
       "01CB393F-3FA5-4CFF-95CB-278FC01C9EC6     1934\n",
       "Name: Quantidade_de_Acessos, dtype: int64"
      ]
     },
     "execution_count": 7,
     "metadata": {},
     "output_type": "execute_result"
    }
   ],
   "source": [
    "unidade = acessos.groupby('Unidade')['Quantidade_de_Acessos'].sum().sort_values(ascending=False)\n",
    "unidade.head(10)"
   ]
  },
  {
   "cell_type": "code",
   "execution_count": 8,
   "metadata": {},
   "outputs": [
    {
     "data": {
      "text/plain": [
       "(10719, 9)"
      ]
     },
     "execution_count": 8,
     "metadata": {},
     "output_type": "execute_result"
    }
   ],
   "source": [
    "vendas.shape"
   ]
  },
  {
   "cell_type": "code",
   "execution_count": 9,
   "metadata": {},
   "outputs": [
    {
     "data": {
      "text/html": [
       "<div>\n",
       "<style scoped>\n",
       "    .dataframe tbody tr th:only-of-type {\n",
       "        vertical-align: middle;\n",
       "    }\n",
       "\n",
       "    .dataframe tbody tr th {\n",
       "        vertical-align: top;\n",
       "    }\n",
       "\n",
       "    .dataframe thead th {\n",
       "        text-align: right;\n",
       "    }\n",
       "</style>\n",
       "<table border=\"1\" class=\"dataframe\">\n",
       "  <thead>\n",
       "    <tr style=\"text-align: right;\">\n",
       "      <th></th>\n",
       "      <th>Data</th>\n",
       "      <th>Funcionario</th>\n",
       "      <th>Unidade</th>\n",
       "      <th>N_Boletos</th>\n",
       "      <th>N_Produtos</th>\n",
       "      <th>Vlr_Bruto</th>\n",
       "      <th>Vlr_Desconto</th>\n",
       "      <th>Vlr_Liquido</th>\n",
       "      <th>cli_codigo</th>\n",
       "    </tr>\n",
       "  </thead>\n",
       "  <tbody>\n",
       "    <tr>\n",
       "      <th>0</th>\n",
       "      <td>2023-06-02</td>\n",
       "      <td>8EB10BCB-42E7-42EF-AF88-07BE7BA740C3</td>\n",
       "      <td>FE9FCF8B-590E-4C08-B6F5-20B0A6CCF8E6</td>\n",
       "      <td>1</td>\n",
       "      <td>1.0</td>\n",
       "      <td>165.0</td>\n",
       "      <td>0.0</td>\n",
       "      <td>165.0</td>\n",
       "      <td>00D509DB-8BE0-4ACE-A5AD-5BF37386995B</td>\n",
       "    </tr>\n",
       "    <tr>\n",
       "      <th>1</th>\n",
       "      <td>2023-06-03</td>\n",
       "      <td>8EB10BCB-42E7-42EF-AF88-07BE7BA740C3</td>\n",
       "      <td>FE9FCF8B-590E-4C08-B6F5-20B0A6CCF8E6</td>\n",
       "      <td>1</td>\n",
       "      <td>1.0</td>\n",
       "      <td>915.0</td>\n",
       "      <td>0.0</td>\n",
       "      <td>915.0</td>\n",
       "      <td>00D509DB-8BE0-4ACE-A5AD-5BF37386995B</td>\n",
       "    </tr>\n",
       "    <tr>\n",
       "      <th>2</th>\n",
       "      <td>2023-06-05</td>\n",
       "      <td>8EB10BCB-42E7-42EF-AF88-07BE7BA740C3</td>\n",
       "      <td>FE9FCF8B-590E-4C08-B6F5-20B0A6CCF8E6</td>\n",
       "      <td>1</td>\n",
       "      <td>1.0</td>\n",
       "      <td>1460.0</td>\n",
       "      <td>116.8</td>\n",
       "      <td>1343.2</td>\n",
       "      <td>00D509DB-8BE0-4ACE-A5AD-5BF37386995B</td>\n",
       "    </tr>\n",
       "    <tr>\n",
       "      <th>3</th>\n",
       "      <td>2023-06-06</td>\n",
       "      <td>8EB10BCB-42E7-42EF-AF88-07BE7BA740C3</td>\n",
       "      <td>FE9FCF8B-590E-4C08-B6F5-20B0A6CCF8E6</td>\n",
       "      <td>1</td>\n",
       "      <td>4.0</td>\n",
       "      <td>6850.0</td>\n",
       "      <td>685.0</td>\n",
       "      <td>6165.0</td>\n",
       "      <td>00D509DB-8BE0-4ACE-A5AD-5BF37386995B</td>\n",
       "    </tr>\n",
       "    <tr>\n",
       "      <th>4</th>\n",
       "      <td>2023-06-07</td>\n",
       "      <td>8EB10BCB-42E7-42EF-AF88-07BE7BA740C3</td>\n",
       "      <td>FE9FCF8B-590E-4C08-B6F5-20B0A6CCF8E6</td>\n",
       "      <td>3</td>\n",
       "      <td>6.0</td>\n",
       "      <td>6867.0</td>\n",
       "      <td>511.0</td>\n",
       "      <td>6356.0</td>\n",
       "      <td>00D509DB-8BE0-4ACE-A5AD-5BF37386995B</td>\n",
       "    </tr>\n",
       "  </tbody>\n",
       "</table>\n",
       "</div>"
      ],
      "text/plain": [
       "         Data                           Funcionario  \\\n",
       "0  2023-06-02  8EB10BCB-42E7-42EF-AF88-07BE7BA740C3   \n",
       "1  2023-06-03  8EB10BCB-42E7-42EF-AF88-07BE7BA740C3   \n",
       "2  2023-06-05  8EB10BCB-42E7-42EF-AF88-07BE7BA740C3   \n",
       "3  2023-06-06  8EB10BCB-42E7-42EF-AF88-07BE7BA740C3   \n",
       "4  2023-06-07  8EB10BCB-42E7-42EF-AF88-07BE7BA740C3   \n",
       "\n",
       "                                Unidade  N_Boletos  N_Produtos  Vlr_Bruto  \\\n",
       "0  FE9FCF8B-590E-4C08-B6F5-20B0A6CCF8E6          1         1.0      165.0   \n",
       "1  FE9FCF8B-590E-4C08-B6F5-20B0A6CCF8E6          1         1.0      915.0   \n",
       "2  FE9FCF8B-590E-4C08-B6F5-20B0A6CCF8E6          1         1.0     1460.0   \n",
       "3  FE9FCF8B-590E-4C08-B6F5-20B0A6CCF8E6          1         4.0     6850.0   \n",
       "4  FE9FCF8B-590E-4C08-B6F5-20B0A6CCF8E6          3         6.0     6867.0   \n",
       "\n",
       "   Vlr_Desconto  Vlr_Liquido                            cli_codigo  \n",
       "0           0.0        165.0  00D509DB-8BE0-4ACE-A5AD-5BF37386995B  \n",
       "1           0.0        915.0  00D509DB-8BE0-4ACE-A5AD-5BF37386995B  \n",
       "2         116.8       1343.2  00D509DB-8BE0-4ACE-A5AD-5BF37386995B  \n",
       "3         685.0       6165.0  00D509DB-8BE0-4ACE-A5AD-5BF37386995B  \n",
       "4         511.0       6356.0  00D509DB-8BE0-4ACE-A5AD-5BF37386995B  "
      ]
     },
     "execution_count": 9,
     "metadata": {},
     "output_type": "execute_result"
    }
   ],
   "source": [
    "vendas.head()"
   ]
  },
  {
   "cell_type": "markdown",
   "metadata": {},
   "source": [
    "#### Criei a coluna devoluções"
   ]
  },
  {
   "cell_type": "code",
   "execution_count": 10,
   "metadata": {},
   "outputs": [],
   "source": [
    "vendas['Devolucoes'] = vendas.apply(lambda row: 'S' if pd.isna(row['N_Produtos']) or row['N_Produtos'] <= 0 else 'N', axis=1)\n"
   ]
  },
  {
   "cell_type": "markdown",
   "metadata": {},
   "source": [
    "### Ticket médio"
   ]
  },
  {
   "cell_type": "code",
   "execution_count": 11,
   "metadata": {},
   "outputs": [
    {
     "name": "stdout",
     "output_type": "stream",
     "text": [
      "Ticket médio: 10124.14\n"
     ]
    }
   ],
   "source": [
    "tcktmedio = vendas['Vlr_Bruto'].sum() / vendas.shape[0]\n",
    "print(f'Ticket médio: {tcktmedio:.2f}')"
   ]
  },
  {
   "cell_type": "markdown",
   "metadata": {},
   "source": [
    "### Faturamento sem descontos"
   ]
  },
  {
   "cell_type": "code",
   "execution_count": 12,
   "metadata": {},
   "outputs": [
    {
     "name": "stdout",
     "output_type": "stream",
     "text": [
      "Faturamento bruto:  108520678.86\n"
     ]
    }
   ],
   "source": [
    "FatBruto = vendas['Vlr_Bruto'].sum()\n",
    "print(f'Faturamento bruto:  {FatBruto:.2f}')"
   ]
  },
  {
   "cell_type": "markdown",
   "metadata": {},
   "source": [
    "### Faturamento com descontos"
   ]
  },
  {
   "cell_type": "code",
   "execution_count": 13,
   "metadata": {},
   "outputs": [
    {
     "name": "stdout",
     "output_type": "stream",
     "text": [
      "Faturamento líquido:  101700863.59\n"
     ]
    }
   ],
   "source": [
    "fatliq = vendas['Vlr_Liquido'].sum()\n",
    "print(f'Faturamento líquido:  {fatliq:.2f}')"
   ]
  },
  {
   "cell_type": "markdown",
   "metadata": {},
   "source": [
    "### Total de Descontos"
   ]
  },
  {
   "cell_type": "code",
   "execution_count": 14,
   "metadata": {},
   "outputs": [
    {
     "name": "stdout",
     "output_type": "stream",
     "text": [
      "Total de descontos:  5287770.73\n"
     ]
    }
   ],
   "source": [
    "total_descontos = vendas['Vlr_Desconto'].sum()\n",
    "print(f'Total de descontos:  {total_descontos:.2f}')"
   ]
  },
  {
   "cell_type": "markdown",
   "metadata": {},
   "source": [
    "#### Total de produtos vendidos"
   ]
  },
  {
   "cell_type": "code",
   "execution_count": 15,
   "metadata": {},
   "outputs": [
    {
     "name": "stdout",
     "output_type": "stream",
     "text": [
      "Total de produtos:  175116 unidades\n"
     ]
    }
   ],
   "source": [
    "totprod = vendas['N_Produtos'].sum()\n",
    "print(f'Total de produtos:  {totprod:.0f} unidades')"
   ]
  },
  {
   "cell_type": "markdown",
   "metadata": {},
   "source": [
    "#### Top 10 Funcionários que mais venderam"
   ]
  },
  {
   "cell_type": "code",
   "execution_count": 16,
   "metadata": {},
   "outputs": [
    {
     "data": {
      "text/plain": [
       "Funcionario\n",
       "B20A3E46-7DBF-46E9-BDEA-5B13AAB08CE0    1281\n",
       "5822DC47-B851-42C3-BDE0-BC9ABAFFBC57     901\n",
       "0EA7A9D3-8569-4082-AA86-9346CF60A095     862\n",
       "46AAF177-3F15-4CAB-BF67-27DBE9CC6748     809\n",
       "24985D0E-9EDF-443D-BF33-CE5CD150100B     778\n",
       "21A46DC1-490D-4077-9038-8BF460B71751     740\n",
       "6E478F40-59BE-4210-BFD7-E8F236A02724     568\n",
       "AC5D28E1-3B90-4D0D-870A-52E3C156AC64     536\n",
       "4716A6E5-20E3-42F0-81C6-CCD88070E648     529\n",
       "E6C62F5A-21C7-4F83-B6A2-83A03B208343     512\n",
       "Name: count, dtype: int64"
      ]
     },
     "execution_count": 16,
     "metadata": {},
     "output_type": "execute_result"
    }
   ],
   "source": [
    "func_rank = vendas['Funcionario'].value_counts()\n",
    "top10func = func_rank.head(10)\n",
    "top10func"
   ]
  },
  {
   "cell_type": "markdown",
   "metadata": {},
   "source": [
    "#### Funcionários que menos venderam"
   ]
  },
  {
   "cell_type": "code",
   "execution_count": 17,
   "metadata": {},
   "outputs": [
    {
     "data": {
      "text/plain": [
       "Funcionario\n",
       "F69F7D87-4788-40F3-890B-997300670DAA    27\n",
       "4058BE4C-CD1A-40D3-89A6-76142B2BE39D    18\n",
       "56D190B4-86F4-404B-B94F-6B57C54EB2D0    16\n",
       "DC582867-D718-46E5-8036-1C0317044475    13\n",
       "75CAA7DE-1065-48CD-9EFF-4C1AAFE4CF29    11\n",
       "D28853F4-40DB-45A7-99E9-52E5FAD1C3B1     9\n",
       "2F01257F-2824-40E1-BF56-1B1813D81792     7\n",
       "9248F096-EC8F-4948-AD93-D30C3DBE701F     4\n",
       "76F47389-5FC9-4D79-9C4E-EEEF9FAF10BE     2\n",
       "1A2B6CA2-1951-4D41-A175-85C8E8312564     1\n",
       "Name: count, dtype: int64"
      ]
     },
     "execution_count": 17,
     "metadata": {},
     "output_type": "execute_result"
    }
   ],
   "source": [
    "tail10func = func_rank.tail(10)\n",
    "tail10func"
   ]
  },
  {
   "cell_type": "markdown",
   "metadata": {},
   "source": [
    "#### Devoluções"
   ]
  },
  {
   "cell_type": "code",
   "execution_count": 18,
   "metadata": {},
   "outputs": [
    {
     "data": {
      "text/plain": [
       "Devolucoes\n",
       "N    10346\n",
       "S      373\n",
       "Name: count, dtype: int64"
      ]
     },
     "execution_count": 18,
     "metadata": {},
     "output_type": "execute_result"
    }
   ],
   "source": [
    "devolucao = vendas['Devolucoes'].value_counts()\n",
    "devolucao"
   ]
  },
  {
   "cell_type": "markdown",
   "metadata": {},
   "source": [
    "#### Total de funcionários desse cliente"
   ]
  },
  {
   "cell_type": "code",
   "execution_count": 19,
   "metadata": {},
   "outputs": [
    {
     "name": "stdout",
     "output_type": "stream",
     "text": [
      "Nessa unidade temos:  40 funcionários\n"
     ]
    }
   ],
   "source": [
    "total_funcionarios = len(vendas['Funcionario'].unique())\n",
    "print(f'Nessa unidade temos:  {total_funcionarios} funcionários')"
   ]
  },
  {
   "cell_type": "code",
   "execution_count": 20,
   "metadata": {},
   "outputs": [],
   "source": [
    "funcionarios_devoluçoes = vendas.groupby('Funcionario')['Devolucoes'].value_counts().reset_index()\n",
    "funcionarios_devolucoes = funcionarios_devoluçoes.sort_values(by='count', ascending=False)\n",
    "\n",
    "funcionarios_dev_S = funcionarios_devolucoes[funcionarios_devolucoes['Devolucoes'] == 'S']\t\n",
    "\n",
    "top10func_dev_x_fat = funcionarios_dev_S.head(10)\n"
   ]
  },
  {
   "cell_type": "markdown",
   "metadata": {},
   "source": [
    "### (Top 10)  Funcionário que tiveram Devolução"
   ]
  },
  {
   "cell_type": "code",
   "execution_count": 21,
   "metadata": {},
   "outputs": [],
   "source": [
    "contagem = top10func_dev_x_fat.groupby('count')"
   ]
  },
  {
   "cell_type": "code",
   "execution_count": 22,
   "metadata": {},
   "outputs": [
    {
     "data": {
      "text/html": [
       "<div>\n",
       "<style scoped>\n",
       "    .dataframe tbody tr th:only-of-type {\n",
       "        vertical-align: middle;\n",
       "    }\n",
       "\n",
       "    .dataframe tbody tr th {\n",
       "        vertical-align: top;\n",
       "    }\n",
       "\n",
       "    .dataframe thead th {\n",
       "        text-align: right;\n",
       "    }\n",
       "</style>\n",
       "<table border=\"1\" class=\"dataframe\">\n",
       "  <thead>\n",
       "    <tr style=\"text-align: right;\">\n",
       "      <th></th>\n",
       "      <th>Funcionario</th>\n",
       "      <th>Devolucoes</th>\n",
       "      <th>count</th>\n",
       "    </tr>\n",
       "  </thead>\n",
       "  <tbody>\n",
       "    <tr>\n",
       "      <th>3</th>\n",
       "      <td>0EA7A9D3-8569-4082-AA86-9346CF60A095</td>\n",
       "      <td>S</td>\n",
       "      <td>33</td>\n",
       "    </tr>\n",
       "    <tr>\n",
       "      <th>60</th>\n",
       "      <td>AC5D28E1-3B90-4D0D-870A-52E3C156AC64</td>\n",
       "      <td>S</td>\n",
       "      <td>31</td>\n",
       "    </tr>\n",
       "    <tr>\n",
       "      <th>24</th>\n",
       "      <td>46AAF177-3F15-4CAB-BF67-27DBE9CC6748</td>\n",
       "      <td>S</td>\n",
       "      <td>25</td>\n",
       "    </tr>\n",
       "    <tr>\n",
       "      <th>26</th>\n",
       "      <td>4716A6E5-20E3-42F0-81C6-CCD88070E648</td>\n",
       "      <td>S</td>\n",
       "      <td>25</td>\n",
       "    </tr>\n",
       "    <tr>\n",
       "      <th>49</th>\n",
       "      <td>913BBDB4-F391-46FC-A805-96809536B1F4</td>\n",
       "      <td>S</td>\n",
       "      <td>24</td>\n",
       "    </tr>\n",
       "    <tr>\n",
       "      <th>38</th>\n",
       "      <td>6E478F40-59BE-4210-BFD7-E8F236A02724</td>\n",
       "      <td>S</td>\n",
       "      <td>21</td>\n",
       "    </tr>\n",
       "    <tr>\n",
       "      <th>36</th>\n",
       "      <td>5822DC47-B851-42C3-BDE0-BC9ABAFFBC57</td>\n",
       "      <td>S</td>\n",
       "      <td>21</td>\n",
       "    </tr>\n",
       "    <tr>\n",
       "      <th>72</th>\n",
       "      <td>E6C62F5A-21C7-4F83-B6A2-83A03B208343</td>\n",
       "      <td>S</td>\n",
       "      <td>19</td>\n",
       "    </tr>\n",
       "    <tr>\n",
       "      <th>16</th>\n",
       "      <td>24985D0E-9EDF-443D-BF33-CE5CD150100B</td>\n",
       "      <td>S</td>\n",
       "      <td>18</td>\n",
       "    </tr>\n",
       "    <tr>\n",
       "      <th>56</th>\n",
       "      <td>A3C61F2F-F4AE-4823-ADD4-B566315C7467</td>\n",
       "      <td>S</td>\n",
       "      <td>17</td>\n",
       "    </tr>\n",
       "  </tbody>\n",
       "</table>\n",
       "</div>"
      ],
      "text/plain": [
       "                             Funcionario Devolucoes  count\n",
       "3   0EA7A9D3-8569-4082-AA86-9346CF60A095          S     33\n",
       "60  AC5D28E1-3B90-4D0D-870A-52E3C156AC64          S     31\n",
       "24  46AAF177-3F15-4CAB-BF67-27DBE9CC6748          S     25\n",
       "26  4716A6E5-20E3-42F0-81C6-CCD88070E648          S     25\n",
       "49  913BBDB4-F391-46FC-A805-96809536B1F4          S     24\n",
       "38  6E478F40-59BE-4210-BFD7-E8F236A02724          S     21\n",
       "36  5822DC47-B851-42C3-BDE0-BC9ABAFFBC57          S     21\n",
       "72  E6C62F5A-21C7-4F83-B6A2-83A03B208343          S     19\n",
       "16  24985D0E-9EDF-443D-BF33-CE5CD150100B          S     18\n",
       "56  A3C61F2F-F4AE-4823-ADD4-B566315C7467          S     17"
      ]
     },
     "execution_count": 22,
     "metadata": {},
     "output_type": "execute_result"
    }
   ],
   "source": [
    "contagem.head(10)"
   ]
  },
  {
   "cell_type": "markdown",
   "metadata": {},
   "source": [
    "### Faturamento dos 10 Funcionários que mais tiveram devolução"
   ]
  },
  {
   "cell_type": "code",
   "execution_count": 23,
   "metadata": {},
   "outputs": [
    {
     "name": "stdout",
     "output_type": "stream",
     "text": [
      "Faturamento líquido do funcionário 0EA7A9D3-8569-4082-AA86-9346CF60A095:  6440970.96\n",
      "Faturamento líquido do funcionário AC5D28E1-3B90-4D0D-870A-52E3C156AC64:  3390391.16\n",
      "Faturamento líquido do funcionário 46AAF177-3F15-4CAB-BF67-27DBE9CC6748:  5855467.40\n",
      "Faturamento líquido do funcionário 4716A6E5-20E3-42F0-81C6-CCD88070E648:  4888718.20\n",
      "Faturamento líquido do funcionário 913BBDB4-F391-46FC-A805-96809536B1F4:  1376148.15\n",
      "Faturamento líquido do funcionário 6E478F40-59BE-4210-BFD7-E8F236A02724:  5025550.60\n",
      "Faturamento líquido do funcionário 5822DC47-B851-42C3-BDE0-BC9ABAFFBC57:  6693175.44\n",
      "Faturamento líquido do funcionário E6C62F5A-21C7-4F83-B6A2-83A03B208343:  3040675.69\n",
      "Faturamento líquido do funcionário 24985D0E-9EDF-443D-BF33-CE5CD150100B:  5222761.04\n",
      "Faturamento líquido do funcionário A3C61F2F-F4AE-4823-ADD4-B566315C7467:  2156454.07\n"
     ]
    },
    {
     "name": "stderr",
     "output_type": "stream",
     "text": [
      "C:\\Users\\leand\\AppData\\Local\\Temp\\ipykernel_22132\\2738498737.py:3: SettingWithCopyWarning: \n",
      "A value is trying to be set on a copy of a slice from a DataFrame.\n",
      "Try using .loc[row_indexer,col_indexer] = value instead\n",
      "\n",
      "See the caveats in the documentation: https://pandas.pydata.org/pandas-docs/stable/user_guide/indexing.html#returning-a-view-versus-a-copy\n",
      "  top10func_dev_x_fat['Faturamento_Liquido'] = top10func_dev_x_fat['Funcionario'].apply(\n"
     ]
    }
   ],
   "source": [
    "for fat_p_func in top10func_dev_x_fat['Funcionario']:\n",
    "    fat_func = vendas[vendas['Funcionario'] == fat_p_func]['Vlr_Liquido'].sum()\n",
    "    top10func_dev_x_fat['Faturamento_Liquido'] = top10func_dev_x_fat['Funcionario'].apply(\n",
    "    lambda x: vendas[vendas['Funcionario'] == x]['Vlr_Liquido'].sum()\n",
    ")\n",
    "    print(f'Faturamento líquido do funcionário {fat_p_func}:  {fat_func:.2f}')"
   ]
  },
  {
   "cell_type": "code",
   "execution_count": 24,
   "metadata": {},
   "outputs": [
    {
     "data": {
      "text/html": [
       "<div>\n",
       "<style scoped>\n",
       "    .dataframe tbody tr th:only-of-type {\n",
       "        vertical-align: middle;\n",
       "    }\n",
       "\n",
       "    .dataframe tbody tr th {\n",
       "        vertical-align: top;\n",
       "    }\n",
       "\n",
       "    .dataframe thead th {\n",
       "        text-align: right;\n",
       "    }\n",
       "</style>\n",
       "<table border=\"1\" class=\"dataframe\">\n",
       "  <thead>\n",
       "    <tr style=\"text-align: right;\">\n",
       "      <th></th>\n",
       "      <th>Funcionario</th>\n",
       "      <th>Devolucoes</th>\n",
       "      <th>count</th>\n",
       "      <th>Faturamento_Liquido</th>\n",
       "    </tr>\n",
       "  </thead>\n",
       "  <tbody>\n",
       "    <tr>\n",
       "      <th>3</th>\n",
       "      <td>0EA7A9D3-8569-4082-AA86-9346CF60A095</td>\n",
       "      <td>S</td>\n",
       "      <td>33</td>\n",
       "      <td>6440970.96</td>\n",
       "    </tr>\n",
       "    <tr>\n",
       "      <th>60</th>\n",
       "      <td>AC5D28E1-3B90-4D0D-870A-52E3C156AC64</td>\n",
       "      <td>S</td>\n",
       "      <td>31</td>\n",
       "      <td>3390391.16</td>\n",
       "    </tr>\n",
       "    <tr>\n",
       "      <th>24</th>\n",
       "      <td>46AAF177-3F15-4CAB-BF67-27DBE9CC6748</td>\n",
       "      <td>S</td>\n",
       "      <td>25</td>\n",
       "      <td>5855467.40</td>\n",
       "    </tr>\n",
       "    <tr>\n",
       "      <th>26</th>\n",
       "      <td>4716A6E5-20E3-42F0-81C6-CCD88070E648</td>\n",
       "      <td>S</td>\n",
       "      <td>25</td>\n",
       "      <td>4888718.20</td>\n",
       "    </tr>\n",
       "    <tr>\n",
       "      <th>49</th>\n",
       "      <td>913BBDB4-F391-46FC-A805-96809536B1F4</td>\n",
       "      <td>S</td>\n",
       "      <td>24</td>\n",
       "      <td>1376148.15</td>\n",
       "    </tr>\n",
       "    <tr>\n",
       "      <th>38</th>\n",
       "      <td>6E478F40-59BE-4210-BFD7-E8F236A02724</td>\n",
       "      <td>S</td>\n",
       "      <td>21</td>\n",
       "      <td>5025550.60</td>\n",
       "    </tr>\n",
       "    <tr>\n",
       "      <th>36</th>\n",
       "      <td>5822DC47-B851-42C3-BDE0-BC9ABAFFBC57</td>\n",
       "      <td>S</td>\n",
       "      <td>21</td>\n",
       "      <td>6693175.44</td>\n",
       "    </tr>\n",
       "    <tr>\n",
       "      <th>72</th>\n",
       "      <td>E6C62F5A-21C7-4F83-B6A2-83A03B208343</td>\n",
       "      <td>S</td>\n",
       "      <td>19</td>\n",
       "      <td>3040675.69</td>\n",
       "    </tr>\n",
       "    <tr>\n",
       "      <th>16</th>\n",
       "      <td>24985D0E-9EDF-443D-BF33-CE5CD150100B</td>\n",
       "      <td>S</td>\n",
       "      <td>18</td>\n",
       "      <td>5222761.04</td>\n",
       "    </tr>\n",
       "    <tr>\n",
       "      <th>56</th>\n",
       "      <td>A3C61F2F-F4AE-4823-ADD4-B566315C7467</td>\n",
       "      <td>S</td>\n",
       "      <td>17</td>\n",
       "      <td>2156454.07</td>\n",
       "    </tr>\n",
       "  </tbody>\n",
       "</table>\n",
       "</div>"
      ],
      "text/plain": [
       "                             Funcionario Devolucoes  count  \\\n",
       "3   0EA7A9D3-8569-4082-AA86-9346CF60A095          S     33   \n",
       "60  AC5D28E1-3B90-4D0D-870A-52E3C156AC64          S     31   \n",
       "24  46AAF177-3F15-4CAB-BF67-27DBE9CC6748          S     25   \n",
       "26  4716A6E5-20E3-42F0-81C6-CCD88070E648          S     25   \n",
       "49  913BBDB4-F391-46FC-A805-96809536B1F4          S     24   \n",
       "38  6E478F40-59BE-4210-BFD7-E8F236A02724          S     21   \n",
       "36  5822DC47-B851-42C3-BDE0-BC9ABAFFBC57          S     21   \n",
       "72  E6C62F5A-21C7-4F83-B6A2-83A03B208343          S     19   \n",
       "16  24985D0E-9EDF-443D-BF33-CE5CD150100B          S     18   \n",
       "56  A3C61F2F-F4AE-4823-ADD4-B566315C7467          S     17   \n",
       "\n",
       "    Faturamento_Liquido  \n",
       "3            6440970.96  \n",
       "60           3390391.16  \n",
       "24           5855467.40  \n",
       "26           4888718.20  \n",
       "49           1376148.15  \n",
       "38           5025550.60  \n",
       "36           6693175.44  \n",
       "72           3040675.69  \n",
       "16           5222761.04  \n",
       "56           2156454.07  "
      ]
     },
     "execution_count": 24,
     "metadata": {},
     "output_type": "execute_result"
    }
   ],
   "source": [
    "top10func_dev_x_fat"
   ]
  },
  {
   "cell_type": "code",
   "execution_count": 25,
   "metadata": {},
   "outputs": [
    {
     "data": {
      "image/png": "[encoded data removed]",
      "text/plain": [
       "<Figure size 640x480 with 1 Axes>"
      ]
     },
     "metadata": {},
     "output_type": "display_data"
    }
   ],
   "source": [
    "grouped_data = top10func_dev_x_fat.groupby('Funcionario')['Faturamento_Liquido'].sum().reset_index()\n",
    "\n",
    "# Criando as barras\n",
    "plt.bar(grouped_data['Funcionario'], grouped_data['Faturamento_Liquido']) \n",
    "plt.xticks(rotation=90)\n",
    "\n",
    "plt.xlabel('Funcionário')\n",
    "plt.ylabel('Faturamento Líquido')\n",
    "plt.title('Faturamento por Funcionário')\n",
    "plt.grid(axis='y')\n",
    "\n",
    "plt.show()"
   ]
  },
  {
   "cell_type": "code",
   "execution_count": 33,
   "metadata": {},
   "outputs": [
    {
     "data": {
      "image/png": "[encoded data removed]",
      "text/plain": [
       "<Figure size 640x480 with 1 Axes>"
      ]
     },
     "metadata": {},
     "output_type": "display_data"
    }
   ],
   "source": [
    "grouped_data = top10func_dev_x_fat.groupby('Funcionario')['count'].sum().reset_index()\n",
    "\n",
    "# Criando as barras\n",
    "plt.barh(grouped_data['Funcionario'], grouped_data['count']) \n",
    "plt.xticks(rotation=90)\n",
    "\n",
    "plt.xlabel('Qtd Devol')\n",
    "plt.ylabel('Funcionário')\n",
    "plt.title('Devolução Por Funcionário')\n",
    "plt.grid(axis='y')\n",
    "\n",
    "plt.show()"
   ]
  },
  {
   "cell_type": "code",
   "execution_count": 30,
   "metadata": {},
   "outputs": [
    {
     "name": "stdout",
     "output_type": "stream",
     "text": [
      "<class 'pandas.core.frame.DataFrame'>\n",
      "RangeIndex: 15 entries, 0 to 14\n",
      "Data columns (total 8 columns):\n",
      " #   Column                 Non-Null Count  Dtype  \n",
      "---  ------                 --------------  -----  \n",
      " 0   Periodo                15 non-null     object \n",
      " 1   Treinamento            15 non-null     object \n",
      " 2   Categoria_Treinamento  15 non-null     object \n",
      " 3   Funcionario            15 non-null     object \n",
      " 4   Unidade                15 non-null     object \n",
      " 5   Nota_Final             0 non-null      float64\n",
      " 6   Status                 15 non-null     object \n",
      " 7   Cliente                15 non-null     object \n",
      "dtypes: float64(1), object(7)\n",
      "memory usage: 1.1+ KB\n"
     ]
    }
   ],
   "source": [
    "treinamento.info()"
   ]
  },
  {
   "cell_type": "code",
   "execution_count": 39,
   "metadata": {},
   "outputs": [
    {
     "name": "stdout",
     "output_type": "stream",
     "text": [
      "['4A8ED9EE-2276-40D3-A626-095EA6920B6D', 'B20A3E46-7DBF-46E9-BDEA-5B13AAB08CE0', 'F69F7D87-4788-40F3-890B-997300670DAA', '4058BE4C-CD1A-40D3-89A6-76142B2BE39D', 'DCFBB00A-4F15-45E3-83D0-B04E0292BB6E', '29CE7071-A7F0-4FCC-8348-E8F3A19FB381']\n"
     ]
    }
   ],
   "source": [
    "funcionarios = []\n",
    "for funcionario in treinamento['Funcionario'].unique():\n",
    "    funcionarios.append(funcionario)\n",
    "   \n",
    "\n",
    "print(funcionarios)"
   ]
  },
  {
   "cell_type": "code",
   "execution_count": 55,
   "metadata": {},
   "outputs": [],
   "source": [
    "vendas['Treinamento'] = 'S'"
   ]
  },
  {
   "cell_type": "code",
   "execution_count": 57,
   "metadata": {},
   "outputs": [
    {
     "data": {
      "text/plain": [
       "Treinamento\n",
       "S    10713\n",
       "N        6\n",
       "Name: count, dtype: int64"
      ]
     },
     "execution_count": 57,
     "metadata": {},
     "output_type": "execute_result"
    }
   ],
   "source": [
    "vendas['Treinamento'].value_counts()"
   ]
  },
  {
   "cell_type": "code",
   "execution_count": 56,
   "metadata": {},
   "outputs": [
    {
     "name": "stderr",
     "output_type": "stream",
     "text": [
      "C:\\Users\\leand\\AppData\\Local\\Temp\\ipykernel_22132\\3859859234.py:5: SettingWithCopyWarning: \n",
      "A value is trying to be set on a copy of a slice from a DataFrame\n",
      "\n",
      "See the caveats in the documentation: https://pandas.pydata.org/pandas-docs/stable/user_guide/indexing.html#returning-a-view-versus-a-copy\n",
      "  vendas['Treinamento'][i] = 'N'\n",
      "C:\\Users\\leand\\AppData\\Local\\Temp\\ipykernel_22132\\3859859234.py:5: SettingWithCopyWarning: \n",
      "A value is trying to be set on a copy of a slice from a DataFrame\n",
      "\n",
      "See the caveats in the documentation: https://pandas.pydata.org/pandas-docs/stable/user_guide/indexing.html#returning-a-view-versus-a-copy\n",
      "  vendas['Treinamento'][i] = 'N'\n",
      "C:\\Users\\leand\\AppData\\Local\\Temp\\ipykernel_22132\\3859859234.py:5: SettingWithCopyWarning: \n",
      "A value is trying to be set on a copy of a slice from a DataFrame\n",
      "\n",
      "See the caveats in the documentation: https://pandas.pydata.org/pandas-docs/stable/user_guide/indexing.html#returning-a-view-versus-a-copy\n",
      "  vendas['Treinamento'][i] = 'N'\n",
      "C:\\Users\\leand\\AppData\\Local\\Temp\\ipykernel_22132\\3859859234.py:5: SettingWithCopyWarning: \n",
      "A value is trying to be set on a copy of a slice from a DataFrame\n",
      "\n",
      "See the caveats in the documentation: https://pandas.pydata.org/pandas-docs/stable/user_guide/indexing.html#returning-a-view-versus-a-copy\n",
      "  vendas['Treinamento'][i] = 'N'\n",
      "C:\\Users\\leand\\AppData\\Local\\Temp\\ipykernel_22132\\3859859234.py:5: SettingWithCopyWarning: \n",
      "A value is trying to be set on a copy of a slice from a DataFrame\n",
      "\n",
      "See the caveats in the documentation: https://pandas.pydata.org/pandas-docs/stable/user_guide/indexing.html#returning-a-view-versus-a-copy\n",
      "  vendas['Treinamento'][i] = 'N'\n",
      "C:\\Users\\leand\\AppData\\Local\\Temp\\ipykernel_22132\\3859859234.py:5: SettingWithCopyWarning: \n",
      "A value is trying to be set on a copy of a slice from a DataFrame\n",
      "\n",
      "See the caveats in the documentation: https://pandas.pydata.org/pandas-docs/stable/user_guide/indexing.html#returning-a-view-versus-a-copy\n",
      "  vendas['Treinamento'][i] = 'N'\n"
     ]
    }
   ],
   "source": [
    "for i, f in enumerate(funcionarios):\n",
    "    if f in vendas['Funcionario'][i]:\n",
    "        vendas['Treinamento'][i] = 'S'\n",
    "    else:\n",
    "        vendas['Treinamento'][i] = 'N'"
   ]
  },
  {
   "cell_type": "code",
   "execution_count": 61,
   "metadata": {},
   "outputs": [
    {
     "data": {
      "text/html": [
       "<div>\n",
       "<style scoped>\n",
       "    .dataframe tbody tr th:only-of-type {\n",
       "        vertical-align: middle;\n",
       "    }\n",
       "\n",
       "    .dataframe tbody tr th {\n",
       "        vertical-align: top;\n",
       "    }\n",
       "\n",
       "    .dataframe thead th {\n",
       "        text-align: right;\n",
       "    }\n",
       "</style>\n",
       "<table border=\"1\" class=\"dataframe\">\n",
       "  <thead>\n",
       "    <tr style=\"text-align: right;\">\n",
       "      <th></th>\n",
       "      <th>Data</th>\n",
       "      <th>Funcionario</th>\n",
       "      <th>Unidade</th>\n",
       "      <th>N_Boletos</th>\n",
       "      <th>N_Produtos</th>\n",
       "      <th>Vlr_Bruto</th>\n",
       "      <th>Vlr_Desconto</th>\n",
       "      <th>Vlr_Liquido</th>\n",
       "      <th>cli_codigo</th>\n",
       "      <th>Devolucoes</th>\n",
       "      <th>Treinamento</th>\n",
       "    </tr>\n",
       "  </thead>\n",
       "  <tbody>\n",
       "    <tr>\n",
       "      <th>0</th>\n",
       "      <td>2023-06-02</td>\n",
       "      <td>8EB10BCB-42E7-42EF-AF88-07BE7BA740C3</td>\n",
       "      <td>FE9FCF8B-590E-4C08-B6F5-20B0A6CCF8E6</td>\n",
       "      <td>1</td>\n",
       "      <td>1.0</td>\n",
       "      <td>165.00</td>\n",
       "      <td>0.00</td>\n",
       "      <td>165.00</td>\n",
       "      <td>00D509DB-8BE0-4ACE-A5AD-5BF37386995B</td>\n",
       "      <td>N</td>\n",
       "      <td>N</td>\n",
       "    </tr>\n",
       "    <tr>\n",
       "      <th>1</th>\n",
       "      <td>2023-06-03</td>\n",
       "      <td>8EB10BCB-42E7-42EF-AF88-07BE7BA740C3</td>\n",
       "      <td>FE9FCF8B-590E-4C08-B6F5-20B0A6CCF8E6</td>\n",
       "      <td>1</td>\n",
       "      <td>1.0</td>\n",
       "      <td>915.00</td>\n",
       "      <td>0.00</td>\n",
       "      <td>915.00</td>\n",
       "      <td>00D509DB-8BE0-4ACE-A5AD-5BF37386995B</td>\n",
       "      <td>N</td>\n",
       "      <td>N</td>\n",
       "    </tr>\n",
       "    <tr>\n",
       "      <th>2</th>\n",
       "      <td>2023-06-05</td>\n",
       "      <td>8EB10BCB-42E7-42EF-AF88-07BE7BA740C3</td>\n",
       "      <td>FE9FCF8B-590E-4C08-B6F5-20B0A6CCF8E6</td>\n",
       "      <td>1</td>\n",
       "      <td>1.0</td>\n",
       "      <td>1460.00</td>\n",
       "      <td>116.80</td>\n",
       "      <td>1343.20</td>\n",
       "      <td>00D509DB-8BE0-4ACE-A5AD-5BF37386995B</td>\n",
       "      <td>N</td>\n",
       "      <td>N</td>\n",
       "    </tr>\n",
       "    <tr>\n",
       "      <th>3</th>\n",
       "      <td>2023-06-06</td>\n",
       "      <td>8EB10BCB-42E7-42EF-AF88-07BE7BA740C3</td>\n",
       "      <td>FE9FCF8B-590E-4C08-B6F5-20B0A6CCF8E6</td>\n",
       "      <td>1</td>\n",
       "      <td>4.0</td>\n",
       "      <td>6850.00</td>\n",
       "      <td>685.00</td>\n",
       "      <td>6165.00</td>\n",
       "      <td>00D509DB-8BE0-4ACE-A5AD-5BF37386995B</td>\n",
       "      <td>N</td>\n",
       "      <td>N</td>\n",
       "    </tr>\n",
       "    <tr>\n",
       "      <th>4</th>\n",
       "      <td>2023-06-07</td>\n",
       "      <td>8EB10BCB-42E7-42EF-AF88-07BE7BA740C3</td>\n",
       "      <td>FE9FCF8B-590E-4C08-B6F5-20B0A6CCF8E6</td>\n",
       "      <td>3</td>\n",
       "      <td>6.0</td>\n",
       "      <td>6867.00</td>\n",
       "      <td>511.00</td>\n",
       "      <td>6356.00</td>\n",
       "      <td>00D509DB-8BE0-4ACE-A5AD-5BF37386995B</td>\n",
       "      <td>N</td>\n",
       "      <td>N</td>\n",
       "    </tr>\n",
       "    <tr>\n",
       "      <th>5</th>\n",
       "      <td>2023-06-09</td>\n",
       "      <td>8EB10BCB-42E7-42EF-AF88-07BE7BA740C3</td>\n",
       "      <td>FE9FCF8B-590E-4C08-B6F5-20B0A6CCF8E6</td>\n",
       "      <td>1</td>\n",
       "      <td>3.0</td>\n",
       "      <td>8794.11</td>\n",
       "      <td>1011.30</td>\n",
       "      <td>7782.78</td>\n",
       "      <td>00D509DB-8BE0-4ACE-A5AD-5BF37386995B</td>\n",
       "      <td>N</td>\n",
       "      <td>N</td>\n",
       "    </tr>\n",
       "    <tr>\n",
       "      <th>6</th>\n",
       "      <td>2023-06-10</td>\n",
       "      <td>8EB10BCB-42E7-42EF-AF88-07BE7BA740C3</td>\n",
       "      <td>FE9FCF8B-590E-4C08-B6F5-20B0A6CCF8E6</td>\n",
       "      <td>4</td>\n",
       "      <td>20.0</td>\n",
       "      <td>37847.00</td>\n",
       "      <td>2262.90</td>\n",
       "      <td>35583.92</td>\n",
       "      <td>00D509DB-8BE0-4ACE-A5AD-5BF37386995B</td>\n",
       "      <td>N</td>\n",
       "      <td>S</td>\n",
       "    </tr>\n",
       "    <tr>\n",
       "      <th>7</th>\n",
       "      <td>2023-06-12</td>\n",
       "      <td>8EB10BCB-42E7-42EF-AF88-07BE7BA740C3</td>\n",
       "      <td>FE9FCF8B-590E-4C08-B6F5-20B0A6CCF8E6</td>\n",
       "      <td>2</td>\n",
       "      <td>14.0</td>\n",
       "      <td>14698.80</td>\n",
       "      <td>1143.76</td>\n",
       "      <td>13554.93</td>\n",
       "      <td>00D509DB-8BE0-4ACE-A5AD-5BF37386995B</td>\n",
       "      <td>N</td>\n",
       "      <td>S</td>\n",
       "    </tr>\n",
       "    <tr>\n",
       "      <th>8</th>\n",
       "      <td>2023-06-15</td>\n",
       "      <td>8EB10BCB-42E7-42EF-AF88-07BE7BA740C3</td>\n",
       "      <td>FE9FCF8B-590E-4C08-B6F5-20B0A6CCF8E6</td>\n",
       "      <td>1</td>\n",
       "      <td>0.0</td>\n",
       "      <td>0.00</td>\n",
       "      <td>-32.38</td>\n",
       "      <td>32.40</td>\n",
       "      <td>00D509DB-8BE0-4ACE-A5AD-5BF37386995B</td>\n",
       "      <td>S</td>\n",
       "      <td>S</td>\n",
       "    </tr>\n",
       "    <tr>\n",
       "      <th>9</th>\n",
       "      <td>2023-06-16</td>\n",
       "      <td>8EB10BCB-42E7-42EF-AF88-07BE7BA740C3</td>\n",
       "      <td>FE9FCF8B-590E-4C08-B6F5-20B0A6CCF8E6</td>\n",
       "      <td>1</td>\n",
       "      <td>4.0</td>\n",
       "      <td>7365.00</td>\n",
       "      <td>0.00</td>\n",
       "      <td>7365.00</td>\n",
       "      <td>00D509DB-8BE0-4ACE-A5AD-5BF37386995B</td>\n",
       "      <td>N</td>\n",
       "      <td>S</td>\n",
       "    </tr>\n",
       "    <tr>\n",
       "      <th>10</th>\n",
       "      <td>2023-06-17</td>\n",
       "      <td>8EB10BCB-42E7-42EF-AF88-07BE7BA740C3</td>\n",
       "      <td>FE9FCF8B-590E-4C08-B6F5-20B0A6CCF8E6</td>\n",
       "      <td>3</td>\n",
       "      <td>8.0</td>\n",
       "      <td>9310.00</td>\n",
       "      <td>953.48</td>\n",
       "      <td>8356.47</td>\n",
       "      <td>00D509DB-8BE0-4ACE-A5AD-5BF37386995B</td>\n",
       "      <td>N</td>\n",
       "      <td>S</td>\n",
       "    </tr>\n",
       "    <tr>\n",
       "      <th>11</th>\n",
       "      <td>2023-06-19</td>\n",
       "      <td>8EB10BCB-42E7-42EF-AF88-07BE7BA740C3</td>\n",
       "      <td>FE9FCF8B-590E-4C08-B6F5-20B0A6CCF8E6</td>\n",
       "      <td>5</td>\n",
       "      <td>24.0</td>\n",
       "      <td>20856.00</td>\n",
       "      <td>1305.47</td>\n",
       "      <td>19550.46</td>\n",
       "      <td>00D509DB-8BE0-4ACE-A5AD-5BF37386995B</td>\n",
       "      <td>N</td>\n",
       "      <td>S</td>\n",
       "    </tr>\n",
       "    <tr>\n",
       "      <th>12</th>\n",
       "      <td>2023-06-20</td>\n",
       "      <td>8EB10BCB-42E7-42EF-AF88-07BE7BA740C3</td>\n",
       "      <td>FE9FCF8B-590E-4C08-B6F5-20B0A6CCF8E6</td>\n",
       "      <td>3</td>\n",
       "      <td>23.0</td>\n",
       "      <td>3945.00</td>\n",
       "      <td>140.50</td>\n",
       "      <td>3804.50</td>\n",
       "      <td>00D509DB-8BE0-4ACE-A5AD-5BF37386995B</td>\n",
       "      <td>N</td>\n",
       "      <td>S</td>\n",
       "    </tr>\n",
       "    <tr>\n",
       "      <th>13</th>\n",
       "      <td>2023-06-22</td>\n",
       "      <td>8EB10BCB-42E7-42EF-AF88-07BE7BA740C3</td>\n",
       "      <td>FE9FCF8B-590E-4C08-B6F5-20B0A6CCF8E6</td>\n",
       "      <td>1</td>\n",
       "      <td>0.0</td>\n",
       "      <td>0.00</td>\n",
       "      <td>0.00</td>\n",
       "      <td>0.00</td>\n",
       "      <td>00D509DB-8BE0-4ACE-A5AD-5BF37386995B</td>\n",
       "      <td>S</td>\n",
       "      <td>S</td>\n",
       "    </tr>\n",
       "    <tr>\n",
       "      <th>14</th>\n",
       "      <td>2023-06-23</td>\n",
       "      <td>8EB10BCB-42E7-42EF-AF88-07BE7BA740C3</td>\n",
       "      <td>FE9FCF8B-590E-4C08-B6F5-20B0A6CCF8E6</td>\n",
       "      <td>1</td>\n",
       "      <td>1.0</td>\n",
       "      <td>480.00</td>\n",
       "      <td>0.00</td>\n",
       "      <td>480.00</td>\n",
       "      <td>00D509DB-8BE0-4ACE-A5AD-5BF37386995B</td>\n",
       "      <td>N</td>\n",
       "      <td>S</td>\n",
       "    </tr>\n",
       "  </tbody>\n",
       "</table>\n",
       "</div>"
      ],
      "text/plain": [
       "          Data                           Funcionario  \\\n",
       "0   2023-06-02  8EB10BCB-42E7-42EF-AF88-07BE7BA740C3   \n",
       "1   2023-06-03  8EB10BCB-42E7-42EF-AF88-07BE7BA740C3   \n",
       "2   2023-06-05  8EB10BCB-42E7-42EF-AF88-07BE7BA740C3   \n",
       "3   2023-06-06  8EB10BCB-42E7-42EF-AF88-07BE7BA740C3   \n",
       "4   2023-06-07  8EB10BCB-42E7-42EF-AF88-07BE7BA740C3   \n",
       "5   2023-06-09  8EB10BCB-42E7-42EF-AF88-07BE7BA740C3   \n",
       "6   2023-06-10  8EB10BCB-42E7-42EF-AF88-07BE7BA740C3   \n",
       "7   2023-06-12  8EB10BCB-42E7-42EF-AF88-07BE7BA740C3   \n",
       "8   2023-06-15  8EB10BCB-42E7-42EF-AF88-07BE7BA740C3   \n",
       "9   2023-06-16  8EB10BCB-42E7-42EF-AF88-07BE7BA740C3   \n",
       "10  2023-06-17  8EB10BCB-42E7-42EF-AF88-07BE7BA740C3   \n",
       "11  2023-06-19  8EB10BCB-42E7-42EF-AF88-07BE7BA740C3   \n",
       "12  2023-06-20  8EB10BCB-42E7-42EF-AF88-07BE7BA740C3   \n",
       "13  2023-06-22  8EB10BCB-42E7-42EF-AF88-07BE7BA740C3   \n",
       "14  2023-06-23  8EB10BCB-42E7-42EF-AF88-07BE7BA740C3   \n",
       "\n",
       "                                 Unidade  N_Boletos  N_Produtos  Vlr_Bruto  \\\n",
       "0   FE9FCF8B-590E-4C08-B6F5-20B0A6CCF8E6          1         1.0     165.00   \n",
       "1   FE9FCF8B-590E-4C08-B6F5-20B0A6CCF8E6          1         1.0     915.00   \n",
       "2   FE9FCF8B-590E-4C08-B6F5-20B0A6CCF8E6          1         1.0    1460.00   \n",
       "3   FE9FCF8B-590E-4C08-B6F5-20B0A6CCF8E6          1         4.0    6850.00   \n",
       "4   FE9FCF8B-590E-4C08-B6F5-20B0A6CCF8E6          3         6.0    6867.00   \n",
       "5   FE9FCF8B-590E-4C08-B6F5-20B0A6CCF8E6          1         3.0    8794.11   \n",
       "6   FE9FCF8B-590E-4C08-B6F5-20B0A6CCF8E6          4        20.0   37847.00   \n",
       "7   FE9FCF8B-590E-4C08-B6F5-20B0A6CCF8E6          2        14.0   14698.80   \n",
       "8   FE9FCF8B-590E-4C08-B6F5-20B0A6CCF8E6          1         0.0       0.00   \n",
       "9   FE9FCF8B-590E-4C08-B6F5-20B0A6CCF8E6          1         4.0    7365.00   \n",
       "10  FE9FCF8B-590E-4C08-B6F5-20B0A6CCF8E6          3         8.0    9310.00   \n",
       "11  FE9FCF8B-590E-4C08-B6F5-20B0A6CCF8E6          5        24.0   20856.00   \n",
       "12  FE9FCF8B-590E-4C08-B6F5-20B0A6CCF8E6          3        23.0    3945.00   \n",
       "13  FE9FCF8B-590E-4C08-B6F5-20B0A6CCF8E6          1         0.0       0.00   \n",
       "14  FE9FCF8B-590E-4C08-B6F5-20B0A6CCF8E6          1         1.0     480.00   \n",
       "\n",
       "    Vlr_Desconto  Vlr_Liquido                            cli_codigo  \\\n",
       "0           0.00       165.00  00D509DB-8BE0-4ACE-A5AD-5BF37386995B   \n",
       "1           0.00       915.00  00D509DB-8BE0-4ACE-A5AD-5BF37386995B   \n",
       "2         116.80      1343.20  00D509DB-8BE0-4ACE-A5AD-5BF37386995B   \n",
       "3         685.00      6165.00  00D509DB-8BE0-4ACE-A5AD-5BF37386995B   \n",
       "4         511.00      6356.00  00D509DB-8BE0-4ACE-A5AD-5BF37386995B   \n",
       "5        1011.30      7782.78  00D509DB-8BE0-4ACE-A5AD-5BF37386995B   \n",
       "6        2262.90     35583.92  00D509DB-8BE0-4ACE-A5AD-5BF37386995B   \n",
       "7        1143.76     13554.93  00D509DB-8BE0-4ACE-A5AD-5BF37386995B   \n",
       "8         -32.38        32.40  00D509DB-8BE0-4ACE-A5AD-5BF37386995B   \n",
       "9           0.00      7365.00  00D509DB-8BE0-4ACE-A5AD-5BF37386995B   \n",
       "10        953.48      8356.47  00D509DB-8BE0-4ACE-A5AD-5BF37386995B   \n",
       "11       1305.47     19550.46  00D509DB-8BE0-4ACE-A5AD-5BF37386995B   \n",
       "12        140.50      3804.50  00D509DB-8BE0-4ACE-A5AD-5BF37386995B   \n",
       "13          0.00         0.00  00D509DB-8BE0-4ACE-A5AD-5BF37386995B   \n",
       "14          0.00       480.00  00D509DB-8BE0-4ACE-A5AD-5BF37386995B   \n",
       "\n",
       "   Devolucoes Treinamento  \n",
       "0           N           N  \n",
       "1           N           N  \n",
       "2           N           N  \n",
       "3           N           N  \n",
       "4           N           N  \n",
       "5           N           N  \n",
       "6           N           S  \n",
       "7           N           S  \n",
       "8           S           S  \n",
       "9           N           S  \n",
       "10          N           S  \n",
       "11          N           S  \n",
       "12          N           S  \n",
       "13          S           S  \n",
       "14          N           S  "
      ]
     },
     "execution_count": 61,
     "metadata": {},
     "output_type": "execute_result"
    }
   ],
   "source": [
    "vendas.head(15)"
   ]
  },
  {
   "cell_type": "code",
   "execution_count": 72,
   "metadata": {},
   "outputs": [
    {
     "name": "stdout",
     "output_type": "stream",
     "text": [
      "{'Ambos Sim': 373, 'S em Devoluções e N em Treinamento': 0, 'N em Devoluções e S em Treinamento': 10340}\n"
     ]
    }
   ],
   "source": [
    "\n",
    "def analisar_dados(df):\n",
    "\n",
    "    # Filtra apenas as linhas onde ambas as colunas existem\n",
    "    df = df[['Devolucoes', 'Treinamento']].dropna()\n",
    "\n",
    "    # Cria uma nova coluna com a combinação dos valores\n",
    "    df['Combinacao'] = df['Devolucoes'] + '_' + df['Treinamento']\n",
    "\n",
    "    # Conta a frequência de cada combinação\n",
    "    contagens = df['Combinacao'].value_counts().to_dict()\n",
    "\n",
    "    # Retorna um dicionário com as contagens desejadas\n",
    "    return {\n",
    "        'Ambos Sim': contagens.get('S_S', 0),\n",
    "        'S em Devoluções e N em Treinamento': contagens.get('S_N', 0),\n",
    "        'N em Devoluções e S em Treinamento': contagens.get('N_S', 0)\n",
    "    }\n",
    "\n",
    "# Carregando o DataFrame (substitua 'seu_arquivo.csv' pelo seu arquivo)\n",
    "# Chamando a função e imprimindo os resultados\n",
    "resultados = analisar_dados(vendas)\n",
    "print(resultados)\n"
   ]
  }
 ],
 "metadata": {
  "kernelspec": {
   "display_name": "Python 3",
   "language": "python",
   "name": "python3"
  },
  "language_info": {
   "codemirror_mode": {
    "name": "ipython",
    "version": 3
   },
   "file_extension": ".py",
   "mimetype": "text/x-python",
   "name": "python",
   "nbconvert_exporter": "python",
   "pygments_lexer": "ipython3",
   "version": "3.12.3"
  }
 },
 "nbformat": 4,
 "nbformat_minor": 2
}
