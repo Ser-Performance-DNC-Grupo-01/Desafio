{
 "cells": [
  {
   "cell_type": "code",
   "execution_count": 2,
   "metadata": {},
   "outputs": [],
   "source": [
    "import pandas as pd\n",
    "import numpy as np\n",
    "import matplotlib.pyplot as plt\n",
    "import seaborn as sns\n",
    "import os\n"
   ]
  },
  {
   "cell_type": "code",
   "execution_count": 32,
   "metadata": {},
   "outputs": [],
   "source": [
    "caminho = './'\n",
    "\n",
    "for csv in os.listdir(caminho):\n",
    "    if csv.endswith('.csv'):\n",
    "        if 'acessos' in csv:\n",
    "            acessos = pd.read_csv(caminho + csv)\n",
    "        if 'campanha' in csv:\n",
    "            campanha = pd.read_csv(caminho + csv)\n",
    "        if 'feedback' in csv:\n",
    "            feedback = pd.read_csv(caminho + csv)\n",
    "        if 'produto' in csv:\n",
    "            produto = pd.read_csv(caminho + csv)\n",
    "        if 'treinamento' in csv:\n",
    "            treinamento = pd.read_csv(caminho + csv)\n",
    "        if 'vendas' in csv:\n",
    "            vendas = pd.read_csv(caminho + csv)"
   ]
  },
  {
   "cell_type": "code",
   "execution_count": 26,
   "metadata": {},
   "outputs": [
    {
     "data": {
      "text/plain": [
       "(11235, 5)"
      ]
     },
     "execution_count": 26,
     "metadata": {},
     "output_type": "execute_result"
    }
   ],
   "source": [
    "acessos.head()\n",
    "acessos.shape"
   ]
  },
  {
   "cell_type": "code",
   "execution_count": 27,
   "metadata": {},
   "outputs": [],
   "source": [
    "acessos = acessos.drop(columns=['CLI_CODIGO', 'Unidade'])"
   ]
  },
  {
   "cell_type": "code",
   "execution_count": 8,
   "metadata": {},
   "outputs": [
    {
     "data": {
      "text/html": [
       "<div>\n",
       "<style scoped>\n",
       "    .dataframe tbody tr th:only-of-type {\n",
       "        vertical-align: middle;\n",
       "    }\n",
       "\n",
       "    .dataframe tbody tr th {\n",
       "        vertical-align: top;\n",
       "    }\n",
       "\n",
       "    .dataframe thead th {\n",
       "        text-align: right;\n",
       "    }\n",
       "</style>\n",
       "<table border=\"1\" class=\"dataframe\">\n",
       "  <thead>\n",
       "    <tr style=\"text-align: right;\">\n",
       "      <th></th>\n",
       "      <th>Data</th>\n",
       "      <th>Funcionario</th>\n",
       "      <th>Quantidade_de_Acessos</th>\n",
       "    </tr>\n",
       "  </thead>\n",
       "  <tbody>\n",
       "    <tr>\n",
       "      <th>0</th>\n",
       "      <td>2023-06-05</td>\n",
       "      <td>8EB10BCB-42E7-42EF-AF88-07BE7BA740C3</td>\n",
       "      <td>9</td>\n",
       "    </tr>\n",
       "    <tr>\n",
       "      <th>1</th>\n",
       "      <td>2023-06-10</td>\n",
       "      <td>8EB10BCB-42E7-42EF-AF88-07BE7BA740C3</td>\n",
       "      <td>6</td>\n",
       "    </tr>\n",
       "    <tr>\n",
       "      <th>2</th>\n",
       "      <td>2023-06-14</td>\n",
       "      <td>8EB10BCB-42E7-42EF-AF88-07BE7BA740C3</td>\n",
       "      <td>1</td>\n",
       "    </tr>\n",
       "    <tr>\n",
       "      <th>3</th>\n",
       "      <td>2023-06-16</td>\n",
       "      <td>8EB10BCB-42E7-42EF-AF88-07BE7BA740C3</td>\n",
       "      <td>2</td>\n",
       "    </tr>\n",
       "    <tr>\n",
       "      <th>4</th>\n",
       "      <td>2023-06-20</td>\n",
       "      <td>8EB10BCB-42E7-42EF-AF88-07BE7BA740C3</td>\n",
       "      <td>5</td>\n",
       "    </tr>\n",
       "  </tbody>\n",
       "</table>\n",
       "</div>"
      ],
      "text/plain": [
       "         Data                           Funcionario  Quantidade_de_Acessos\n",
       "0  2023-06-05  8EB10BCB-42E7-42EF-AF88-07BE7BA740C3                      9\n",
       "1  2023-06-10  8EB10BCB-42E7-42EF-AF88-07BE7BA740C3                      6\n",
       "2  2023-06-14  8EB10BCB-42E7-42EF-AF88-07BE7BA740C3                      1\n",
       "3  2023-06-16  8EB10BCB-42E7-42EF-AF88-07BE7BA740C3                      2\n",
       "4  2023-06-20  8EB10BCB-42E7-42EF-AF88-07BE7BA740C3                      5"
      ]
     },
     "execution_count": 8,
     "metadata": {},
     "output_type": "execute_result"
    }
   ],
   "source": [
    "acessos.head()"
   ]
  },
  {
   "cell_type": "code",
   "execution_count": 28,
   "metadata": {},
   "outputs": [
    {
     "data": {
      "text/html": [
       "<div>\n",
       "<style scoped>\n",
       "    .dataframe tbody tr th:only-of-type {\n",
       "        vertical-align: middle;\n",
       "    }\n",
       "\n",
       "    .dataframe tbody tr th {\n",
       "        vertical-align: top;\n",
       "    }\n",
       "\n",
       "    .dataframe thead th {\n",
       "        text-align: right;\n",
       "    }\n",
       "</style>\n",
       "<table border=\"1\" class=\"dataframe\">\n",
       "  <thead>\n",
       "    <tr style=\"text-align: right;\">\n",
       "      <th></th>\n",
       "      <th>Data</th>\n",
       "      <th>Produto</th>\n",
       "      <th>Categoria</th>\n",
       "      <th>Unidade</th>\n",
       "      <th>N_Produtos</th>\n",
       "      <th>Vlr_Bruto</th>\n",
       "      <th>Vlr_Desconto</th>\n",
       "      <th>Vlr_Liquido</th>\n",
       "      <th>cli_codigo</th>\n",
       "    </tr>\n",
       "  </thead>\n",
       "  <tbody>\n",
       "    <tr>\n",
       "      <th>0</th>\n",
       "      <td>2021-01-01</td>\n",
       "      <td>NaN</td>\n",
       "      <td>AA84C2C5-9ADD-4CF4-AA02-1E05F85CDACD</td>\n",
       "      <td>2F775CDD-74A9-4516-B2A4-6D7E643E96EA</td>\n",
       "      <td>6.0</td>\n",
       "      <td>528.0</td>\n",
       "      <td>0.0</td>\n",
       "      <td>528.0</td>\n",
       "      <td>00D509DB-8BE0-4ACE-A5AD-5BF37386995B</td>\n",
       "    </tr>\n",
       "    <tr>\n",
       "      <th>1</th>\n",
       "      <td>2021-01-01</td>\n",
       "      <td>NaN</td>\n",
       "      <td>68D0E2AE-FEC4-4FCD-8DD9-318A15AD0B6F</td>\n",
       "      <td>2F775CDD-74A9-4516-B2A4-6D7E643E96EA</td>\n",
       "      <td>1.0</td>\n",
       "      <td>102.9</td>\n",
       "      <td>0.0</td>\n",
       "      <td>102.9</td>\n",
       "      <td>00D509DB-8BE0-4ACE-A5AD-5BF37386995B</td>\n",
       "    </tr>\n",
       "    <tr>\n",
       "      <th>2</th>\n",
       "      <td>2021-01-01</td>\n",
       "      <td>NaN</td>\n",
       "      <td>56865B8F-FB8E-427D-B7CB-5557665DCBE5</td>\n",
       "      <td>2F775CDD-74A9-4516-B2A4-6D7E643E96EA</td>\n",
       "      <td>5.0</td>\n",
       "      <td>1253.0</td>\n",
       "      <td>0.0</td>\n",
       "      <td>1253.0</td>\n",
       "      <td>00D509DB-8BE0-4ACE-A5AD-5BF37386995B</td>\n",
       "    </tr>\n",
       "    <tr>\n",
       "      <th>3</th>\n",
       "      <td>2021-01-01</td>\n",
       "      <td>NaN</td>\n",
       "      <td>232926E7-A4C4-49A2-A4D1-8110B378576B</td>\n",
       "      <td>2F775CDD-74A9-4516-B2A4-6D7E643E96EA</td>\n",
       "      <td>10.0</td>\n",
       "      <td>270.0</td>\n",
       "      <td>0.0</td>\n",
       "      <td>270.0</td>\n",
       "      <td>00D509DB-8BE0-4ACE-A5AD-5BF37386995B</td>\n",
       "    </tr>\n",
       "    <tr>\n",
       "      <th>4</th>\n",
       "      <td>2021-01-01</td>\n",
       "      <td>NaN</td>\n",
       "      <td>37B78DF7-204A-4F20-A1B2-D0FFC029F386</td>\n",
       "      <td>2F775CDD-74A9-4516-B2A4-6D7E643E96EA</td>\n",
       "      <td>7.0</td>\n",
       "      <td>9770.0</td>\n",
       "      <td>-752.6</td>\n",
       "      <td>9017.4</td>\n",
       "      <td>00D509DB-8BE0-4ACE-A5AD-5BF37386995B</td>\n",
       "    </tr>\n",
       "  </tbody>\n",
       "</table>\n",
       "</div>"
      ],
      "text/plain": [
       "         Data Produto                             Categoria  \\\n",
       "0  2021-01-01     NaN  AA84C2C5-9ADD-4CF4-AA02-1E05F85CDACD   \n",
       "1  2021-01-01     NaN  68D0E2AE-FEC4-4FCD-8DD9-318A15AD0B6F   \n",
       "2  2021-01-01     NaN  56865B8F-FB8E-427D-B7CB-5557665DCBE5   \n",
       "3  2021-01-01     NaN  232926E7-A4C4-49A2-A4D1-8110B378576B   \n",
       "4  2021-01-01     NaN  37B78DF7-204A-4F20-A1B2-D0FFC029F386   \n",
       "\n",
       "                                Unidade  N_Produtos  Vlr_Bruto  Vlr_Desconto  \\\n",
       "0  2F775CDD-74A9-4516-B2A4-6D7E643E96EA         6.0      528.0           0.0   \n",
       "1  2F775CDD-74A9-4516-B2A4-6D7E643E96EA         1.0      102.9           0.0   \n",
       "2  2F775CDD-74A9-4516-B2A4-6D7E643E96EA         5.0     1253.0           0.0   \n",
       "3  2F775CDD-74A9-4516-B2A4-6D7E643E96EA        10.0      270.0           0.0   \n",
       "4  2F775CDD-74A9-4516-B2A4-6D7E643E96EA         7.0     9770.0        -752.6   \n",
       "\n",
       "   Vlr_Liquido                            cli_codigo  \n",
       "0        528.0  00D509DB-8BE0-4ACE-A5AD-5BF37386995B  \n",
       "1        102.9  00D509DB-8BE0-4ACE-A5AD-5BF37386995B  \n",
       "2       1253.0  00D509DB-8BE0-4ACE-A5AD-5BF37386995B  \n",
       "3        270.0  00D509DB-8BE0-4ACE-A5AD-5BF37386995B  \n",
       "4       9017.4  00D509DB-8BE0-4ACE-A5AD-5BF37386995B  "
      ]
     },
     "execution_count": 28,
     "metadata": {},
     "output_type": "execute_result"
    }
   ],
   "source": [
    "produto.head()"
   ]
  },
  {
   "cell_type": "code",
   "execution_count": 29,
   "metadata": {},
   "outputs": [
    {
     "data": {
      "text/html": [
       "<div>\n",
       "<style scoped>\n",
       "    .dataframe tbody tr th:only-of-type {\n",
       "        vertical-align: middle;\n",
       "    }\n",
       "\n",
       "    .dataframe tbody tr th {\n",
       "        vertical-align: top;\n",
       "    }\n",
       "\n",
       "    .dataframe thead th {\n",
       "        text-align: right;\n",
       "    }\n",
       "</style>\n",
       "<table border=\"1\" class=\"dataframe\">\n",
       "  <thead>\n",
       "    <tr style=\"text-align: right;\">\n",
       "      <th></th>\n",
       "      <th>Data</th>\n",
       "      <th>Categoria</th>\n",
       "      <th>Unidade</th>\n",
       "      <th>cli_codigo</th>\n",
       "    </tr>\n",
       "  </thead>\n",
       "  <tbody>\n",
       "    <tr>\n",
       "      <th>0</th>\n",
       "      <td>2021-01-01</td>\n",
       "      <td>AA84C2C5-9ADD-4CF4-AA02-1E05F85CDACD</td>\n",
       "      <td>2F775CDD-74A9-4516-B2A4-6D7E643E96EA</td>\n",
       "      <td>00D509DB-8BE0-4ACE-A5AD-5BF37386995B</td>\n",
       "    </tr>\n",
       "    <tr>\n",
       "      <th>1</th>\n",
       "      <td>2021-01-01</td>\n",
       "      <td>68D0E2AE-FEC4-4FCD-8DD9-318A15AD0B6F</td>\n",
       "      <td>2F775CDD-74A9-4516-B2A4-6D7E643E96EA</td>\n",
       "      <td>00D509DB-8BE0-4ACE-A5AD-5BF37386995B</td>\n",
       "    </tr>\n",
       "    <tr>\n",
       "      <th>2</th>\n",
       "      <td>2021-01-01</td>\n",
       "      <td>56865B8F-FB8E-427D-B7CB-5557665DCBE5</td>\n",
       "      <td>2F775CDD-74A9-4516-B2A4-6D7E643E96EA</td>\n",
       "      <td>00D509DB-8BE0-4ACE-A5AD-5BF37386995B</td>\n",
       "    </tr>\n",
       "    <tr>\n",
       "      <th>3</th>\n",
       "      <td>2021-01-01</td>\n",
       "      <td>232926E7-A4C4-49A2-A4D1-8110B378576B</td>\n",
       "      <td>2F775CDD-74A9-4516-B2A4-6D7E643E96EA</td>\n",
       "      <td>00D509DB-8BE0-4ACE-A5AD-5BF37386995B</td>\n",
       "    </tr>\n",
       "    <tr>\n",
       "      <th>4</th>\n",
       "      <td>2021-01-01</td>\n",
       "      <td>37B78DF7-204A-4F20-A1B2-D0FFC029F386</td>\n",
       "      <td>2F775CDD-74A9-4516-B2A4-6D7E643E96EA</td>\n",
       "      <td>00D509DB-8BE0-4ACE-A5AD-5BF37386995B</td>\n",
       "    </tr>\n",
       "  </tbody>\n",
       "</table>\n",
       "</div>"
      ],
      "text/plain": [
       "         Data                             Categoria  \\\n",
       "0  2021-01-01  AA84C2C5-9ADD-4CF4-AA02-1E05F85CDACD   \n",
       "1  2021-01-01  68D0E2AE-FEC4-4FCD-8DD9-318A15AD0B6F   \n",
       "2  2021-01-01  56865B8F-FB8E-427D-B7CB-5557665DCBE5   \n",
       "3  2021-01-01  232926E7-A4C4-49A2-A4D1-8110B378576B   \n",
       "4  2021-01-01  37B78DF7-204A-4F20-A1B2-D0FFC029F386   \n",
       "\n",
       "                                Unidade                            cli_codigo  \n",
       "0  2F775CDD-74A9-4516-B2A4-6D7E643E96EA  00D509DB-8BE0-4ACE-A5AD-5BF37386995B  \n",
       "1  2F775CDD-74A9-4516-B2A4-6D7E643E96EA  00D509DB-8BE0-4ACE-A5AD-5BF37386995B  \n",
       "2  2F775CDD-74A9-4516-B2A4-6D7E643E96EA  00D509DB-8BE0-4ACE-A5AD-5BF37386995B  \n",
       "3  2F775CDD-74A9-4516-B2A4-6D7E643E96EA  00D509DB-8BE0-4ACE-A5AD-5BF37386995B  \n",
       "4  2F775CDD-74A9-4516-B2A4-6D7E643E96EA  00D509DB-8BE0-4ACE-A5AD-5BF37386995B  "
      ]
     },
     "execution_count": 29,
     "metadata": {},
     "output_type": "execute_result"
    }
   ],
   "source": [
    "produto = produto.drop(columns=['Produto', 'N_Produtos', 'Vlr_Bruto', 'Vlr_Desconto', 'Vlr_Liquido' ])\n",
    "produto.head()"
   ]
  },
  {
   "cell_type": "code",
   "execution_count": 21,
   "metadata": {},
   "outputs": [
    {
     "data": {
      "text/plain": [
       "(10719, 9)"
      ]
     },
     "execution_count": 21,
     "metadata": {},
     "output_type": "execute_result"
    }
   ],
   "source": [
    "vendas.shape"
   ]
  },
  {
   "cell_type": "code",
   "execution_count": 11,
   "metadata": {},
   "outputs": [
    {
     "data": {
      "text/html": [
       "<div>\n",
       "<style scoped>\n",
       "    .dataframe tbody tr th:only-of-type {\n",
       "        vertical-align: middle;\n",
       "    }\n",
       "\n",
       "    .dataframe tbody tr th {\n",
       "        vertical-align: top;\n",
       "    }\n",
       "\n",
       "    .dataframe thead th {\n",
       "        text-align: right;\n",
       "    }\n",
       "</style>\n",
       "<table border=\"1\" class=\"dataframe\">\n",
       "  <thead>\n",
       "    <tr style=\"text-align: right;\">\n",
       "      <th></th>\n",
       "      <th>Data</th>\n",
       "      <th>Funcionario</th>\n",
       "      <th>Unidade</th>\n",
       "      <th>N_Boletos</th>\n",
       "      <th>N_Produtos</th>\n",
       "      <th>Vlr_Bruto</th>\n",
       "      <th>Vlr_Desconto</th>\n",
       "      <th>Vlr_Liquido</th>\n",
       "      <th>cli_codigo</th>\n",
       "    </tr>\n",
       "  </thead>\n",
       "  <tbody>\n",
       "    <tr>\n",
       "      <th>0</th>\n",
       "      <td>2023-06-02</td>\n",
       "      <td>8EB10BCB-42E7-42EF-AF88-07BE7BA740C3</td>\n",
       "      <td>FE9FCF8B-590E-4C08-B6F5-20B0A6CCF8E6</td>\n",
       "      <td>1</td>\n",
       "      <td>1.0</td>\n",
       "      <td>165.0</td>\n",
       "      <td>0.0</td>\n",
       "      <td>165.0</td>\n",
       "      <td>00D509DB-8BE0-4ACE-A5AD-5BF37386995B</td>\n",
       "    </tr>\n",
       "    <tr>\n",
       "      <th>1</th>\n",
       "      <td>2023-06-03</td>\n",
       "      <td>8EB10BCB-42E7-42EF-AF88-07BE7BA740C3</td>\n",
       "      <td>FE9FCF8B-590E-4C08-B6F5-20B0A6CCF8E6</td>\n",
       "      <td>1</td>\n",
       "      <td>1.0</td>\n",
       "      <td>915.0</td>\n",
       "      <td>0.0</td>\n",
       "      <td>915.0</td>\n",
       "      <td>00D509DB-8BE0-4ACE-A5AD-5BF37386995B</td>\n",
       "    </tr>\n",
       "    <tr>\n",
       "      <th>2</th>\n",
       "      <td>2023-06-05</td>\n",
       "      <td>8EB10BCB-42E7-42EF-AF88-07BE7BA740C3</td>\n",
       "      <td>FE9FCF8B-590E-4C08-B6F5-20B0A6CCF8E6</td>\n",
       "      <td>1</td>\n",
       "      <td>1.0</td>\n",
       "      <td>1460.0</td>\n",
       "      <td>116.8</td>\n",
       "      <td>1343.2</td>\n",
       "      <td>00D509DB-8BE0-4ACE-A5AD-5BF37386995B</td>\n",
       "    </tr>\n",
       "    <tr>\n",
       "      <th>3</th>\n",
       "      <td>2023-06-06</td>\n",
       "      <td>8EB10BCB-42E7-42EF-AF88-07BE7BA740C3</td>\n",
       "      <td>FE9FCF8B-590E-4C08-B6F5-20B0A6CCF8E6</td>\n",
       "      <td>1</td>\n",
       "      <td>4.0</td>\n",
       "      <td>6850.0</td>\n",
       "      <td>685.0</td>\n",
       "      <td>6165.0</td>\n",
       "      <td>00D509DB-8BE0-4ACE-A5AD-5BF37386995B</td>\n",
       "    </tr>\n",
       "    <tr>\n",
       "      <th>4</th>\n",
       "      <td>2023-06-07</td>\n",
       "      <td>8EB10BCB-42E7-42EF-AF88-07BE7BA740C3</td>\n",
       "      <td>FE9FCF8B-590E-4C08-B6F5-20B0A6CCF8E6</td>\n",
       "      <td>3</td>\n",
       "      <td>6.0</td>\n",
       "      <td>6867.0</td>\n",
       "      <td>511.0</td>\n",
       "      <td>6356.0</td>\n",
       "      <td>00D509DB-8BE0-4ACE-A5AD-5BF37386995B</td>\n",
       "    </tr>\n",
       "  </tbody>\n",
       "</table>\n",
       "</div>"
      ],
      "text/plain": [
       "         Data                           Funcionario  \\\n",
       "0  2023-06-02  8EB10BCB-42E7-42EF-AF88-07BE7BA740C3   \n",
       "1  2023-06-03  8EB10BCB-42E7-42EF-AF88-07BE7BA740C3   \n",
       "2  2023-06-05  8EB10BCB-42E7-42EF-AF88-07BE7BA740C3   \n",
       "3  2023-06-06  8EB10BCB-42E7-42EF-AF88-07BE7BA740C3   \n",
       "4  2023-06-07  8EB10BCB-42E7-42EF-AF88-07BE7BA740C3   \n",
       "\n",
       "                                Unidade  N_Boletos  N_Produtos  Vlr_Bruto  \\\n",
       "0  FE9FCF8B-590E-4C08-B6F5-20B0A6CCF8E6          1         1.0      165.0   \n",
       "1  FE9FCF8B-590E-4C08-B6F5-20B0A6CCF8E6          1         1.0      915.0   \n",
       "2  FE9FCF8B-590E-4C08-B6F5-20B0A6CCF8E6          1         1.0     1460.0   \n",
       "3  FE9FCF8B-590E-4C08-B6F5-20B0A6CCF8E6          1         4.0     6850.0   \n",
       "4  FE9FCF8B-590E-4C08-B6F5-20B0A6CCF8E6          3         6.0     6867.0   \n",
       "\n",
       "   Vlr_Desconto  Vlr_Liquido                            cli_codigo  \n",
       "0           0.0        165.0  00D509DB-8BE0-4ACE-A5AD-5BF37386995B  \n",
       "1           0.0        915.0  00D509DB-8BE0-4ACE-A5AD-5BF37386995B  \n",
       "2         116.8       1343.2  00D509DB-8BE0-4ACE-A5AD-5BF37386995B  \n",
       "3         685.0       6165.0  00D509DB-8BE0-4ACE-A5AD-5BF37386995B  \n",
       "4         511.0       6356.0  00D509DB-8BE0-4ACE-A5AD-5BF37386995B  "
      ]
     },
     "execution_count": 11,
     "metadata": {},
     "output_type": "execute_result"
    }
   ],
   "source": [
    "vendas.head()"
   ]
  },
  {
   "cell_type": "code",
   "execution_count": 71,
   "metadata": {},
   "outputs": [],
   "source": [
    "vendas['Devolucoes'] = vendas.apply(lambda row: 'S' if pd.isna(row['N_Produtos']) or row['N_Produtos'] <= 0 else 'N', axis=1)\n"
   ]
  },
  {
   "cell_type": "code",
   "execution_count": 53,
   "metadata": {},
   "outputs": [
    {
     "name": "stdout",
     "output_type": "stream",
     "text": [
      "Ticket médio: 10124.14\n"
     ]
    }
   ],
   "source": [
    "tcktmedio = vendas['Vlr_Bruto'].sum() / vendas.shape[0]\n",
    "print(f'Ticket médio: {tcktmedio:.2f}')"
   ]
  },
  {
   "cell_type": "code",
   "execution_count": 54,
   "metadata": {},
   "outputs": [
    {
     "name": "stdout",
     "output_type": "stream",
     "text": [
      "Faturamento bruto:  108520678.86\n"
     ]
    }
   ],
   "source": [
    "FatBruto = vendas['Vlr_Bruto'].sum()\n",
    "print(f'Faturamento bruto:  {FatBruto:.2f}')"
   ]
  },
  {
   "cell_type": "code",
   "execution_count": 55,
   "metadata": {},
   "outputs": [
    {
     "name": "stdout",
     "output_type": "stream",
     "text": [
      "Faturamento líquido:  101700863.59\n"
     ]
    }
   ],
   "source": [
    "fatliq = vendas['Vlr_Liquido'].sum()\n",
    "print(f'Faturamento líquido:  {fatliq:.2f}')"
   ]
  },
  {
   "cell_type": "code",
   "execution_count": 57,
   "metadata": {},
   "outputs": [
    {
     "name": "stdout",
     "output_type": "stream",
     "text": [
      "Total de descontos:  5287770.73\n"
     ]
    }
   ],
   "source": [
    "total_descontos = vendas['Vlr_Desconto'].sum()\n",
    "print(f'Total de descontos:  {total_descontos:.2f}')"
   ]
  },
  {
   "cell_type": "code",
   "execution_count": 62,
   "metadata": {},
   "outputs": [
    {
     "name": "stdout",
     "output_type": "stream",
     "text": [
      "Total de produtos:  175116 unidades\n"
     ]
    }
   ],
   "source": [
    "totprod = vendas['N_Produtos'].sum()\n",
    "print(f'Total de produtos:  {totprod:.0f} unidades')"
   ]
  },
  {
   "cell_type": "code",
   "execution_count": 68,
   "metadata": {},
   "outputs": [
    {
     "data": {
      "text/plain": [
       "Funcionario\n",
       "B20A3E46-7DBF-46E9-BDEA-5B13AAB08CE0    1281\n",
       "5822DC47-B851-42C3-BDE0-BC9ABAFFBC57     901\n",
       "0EA7A9D3-8569-4082-AA86-9346CF60A095     862\n",
       "46AAF177-3F15-4CAB-BF67-27DBE9CC6748     809\n",
       "24985D0E-9EDF-443D-BF33-CE5CD150100B     778\n",
       "21A46DC1-490D-4077-9038-8BF460B71751     740\n",
       "6E478F40-59BE-4210-BFD7-E8F236A02724     568\n",
       "AC5D28E1-3B90-4D0D-870A-52E3C156AC64     536\n",
       "4716A6E5-20E3-42F0-81C6-CCD88070E648     529\n",
       "E6C62F5A-21C7-4F83-B6A2-83A03B208343     512\n",
       "Name: count, dtype: int64"
      ]
     },
     "execution_count": 68,
     "metadata": {},
     "output_type": "execute_result"
    }
   ],
   "source": [
    "func_rank = vendas['Funcionario'].value_counts()\n",
    "top10func = func_rank.head(10)\n",
    "top10func"
   ]
  },
  {
   "cell_type": "code",
   "execution_count": 70,
   "metadata": {},
   "outputs": [
    {
     "data": {
      "text/plain": [
       "Funcionario\n",
       "F69F7D87-4788-40F3-890B-997300670DAA    27\n",
       "4058BE4C-CD1A-40D3-89A6-76142B2BE39D    18\n",
       "56D190B4-86F4-404B-B94F-6B57C54EB2D0    16\n",
       "DC582867-D718-46E5-8036-1C0317044475    13\n",
       "75CAA7DE-1065-48CD-9EFF-4C1AAFE4CF29    11\n",
       "D28853F4-40DB-45A7-99E9-52E5FAD1C3B1     9\n",
       "2F01257F-2824-40E1-BF56-1B1813D81792     7\n",
       "9248F096-EC8F-4948-AD93-D30C3DBE701F     4\n",
       "76F47389-5FC9-4D79-9C4E-EEEF9FAF10BE     2\n",
       "1A2B6CA2-1951-4D41-A175-85C8E8312564     1\n",
       "Name: count, dtype: int64"
      ]
     },
     "execution_count": 70,
     "metadata": {},
     "output_type": "execute_result"
    }
   ],
   "source": [
    "tail10func = func_rank.tail(10)\n",
    "tail10func"
   ]
  },
  {
   "cell_type": "code",
   "execution_count": 73,
   "metadata": {},
   "outputs": [
    {
     "data": {
      "text/plain": [
       "Devolucoes\n",
       "N    10346\n",
       "S      373\n",
       "Name: count, dtype: int64"
      ]
     },
     "execution_count": 73,
     "metadata": {},
     "output_type": "execute_result"
    }
   ],
   "source": [
    "devolucao = vendas['Devolucoes'].value_counts()\n",
    "devolucao"
   ]
  },
  {
   "cell_type": "code",
   "execution_count": 79,
   "metadata": {},
   "outputs": [
    {
     "ename": "ValueError",
     "evalue": "The truth value of a Series is ambiguous. Use a.empty, a.bool(), a.item(), a.any() or a.all().",
     "output_type": "error",
     "traceback": [
      "\u001b[1;31m---------------------------------------------------------------------------\u001b[0m",
      "\u001b[1;31mValueError\u001b[0m                                Traceback (most recent call last)",
      "\u001b[1;32m~\\AppData\\Local\\Temp\\ipykernel_16288\\3090549571.py\u001b[0m in \u001b[0;36m?\u001b[1;34m()\u001b[0m\n\u001b[1;32m----> 1\u001b[1;33m \u001b[0mvendas\u001b[0m\u001b[1;33m[\u001b[0m\u001b[1;34m'Vlr_Liquido'\u001b[0m \u001b[1;32mif\u001b[0m \u001b[0mvendas\u001b[0m\u001b[1;33m[\u001b[0m\u001b[1;34m'Devolucoes'\u001b[0m\u001b[1;33m]\u001b[0m \u001b[1;33m==\u001b[0m \u001b[1;34m'N'\u001b[0m \u001b[1;32melse\u001b[0m \u001b[1;32mNone\u001b[0m \u001b[1;33m]\u001b[0m\u001b[1;33m.\u001b[0m\u001b[0msum\u001b[0m\u001b[1;33m(\u001b[0m\u001b[1;33m)\u001b[0m\u001b[1;33m\u001b[0m\u001b[1;33m\u001b[0m\u001b[0m\n\u001b[0m",
      "\u001b[1;32m~\\AppData\\Local\\Packages\\PythonSoftwareFoundation.Python.3.12_qbz5n2kfra8p0\\LocalCache\\local-packages\\Python312\\site-packages\\pandas\\core\\generic.py\u001b[0m in \u001b[0;36m?\u001b[1;34m(self)\u001b[0m\n\u001b[0;32m   1517\u001b[0m     \u001b[1;33m@\u001b[0m\u001b[0mfinal\u001b[0m\u001b[1;33m\u001b[0m\u001b[1;33m\u001b[0m\u001b[0m\n\u001b[0;32m   1518\u001b[0m     \u001b[1;32mdef\u001b[0m \u001b[0m__nonzero__\u001b[0m\u001b[1;33m(\u001b[0m\u001b[0mself\u001b[0m\u001b[1;33m)\u001b[0m \u001b[1;33m->\u001b[0m \u001b[0mNoReturn\u001b[0m\u001b[1;33m:\u001b[0m\u001b[1;33m\u001b[0m\u001b[1;33m\u001b[0m\u001b[0m\n\u001b[1;32m-> 1519\u001b[1;33m         raise ValueError(\n\u001b[0m\u001b[0;32m   1520\u001b[0m             \u001b[1;33mf\"\u001b[0m\u001b[1;33mThe truth value of a \u001b[0m\u001b[1;33m{\u001b[0m\u001b[0mtype\u001b[0m\u001b[1;33m(\u001b[0m\u001b[0mself\u001b[0m\u001b[1;33m)\u001b[0m\u001b[1;33m.\u001b[0m\u001b[0m__name__\u001b[0m\u001b[1;33m}\u001b[0m\u001b[1;33m is ambiguous. \u001b[0m\u001b[1;33m\"\u001b[0m\u001b[1;33m\u001b[0m\u001b[1;33m\u001b[0m\u001b[0m\n\u001b[0;32m   1521\u001b[0m             \u001b[1;34m\"Use a.empty, a.bool(), a.item(), a.any() or a.all().\"\u001b[0m\u001b[1;33m\u001b[0m\u001b[1;33m\u001b[0m\u001b[0m\n\u001b[0;32m   1522\u001b[0m         \u001b[1;33m)\u001b[0m\u001b[1;33m\u001b[0m\u001b[1;33m\u001b[0m\u001b[0m\n",
      "\u001b[1;31mValueError\u001b[0m: The truth value of a Series is ambiguous. Use a.empty, a.bool(), a.item(), a.any() or a.all()."
     ]
    }
   ],
   "source": [
    "vendas['Vlr_Liquido' if vendas['Devolucoes'] == 'N' else None ].sum()"
   ]
  }
 ],
 "metadata": {
  "kernelspec": {
   "display_name": "Python 3",
   "language": "python",
   "name": "python3"
  },
  "language_info": {
   "codemirror_mode": {
    "name": "ipython",
    "version": 3
   },
   "file_extension": ".py",
   "mimetype": "text/x-python",
   "name": "python",
   "nbconvert_exporter": "python",
   "pygments_lexer": "ipython3",
   "version": "3.12.3"
  }
 },
 "nbformat": 4,
 "nbformat_minor": 2
}
